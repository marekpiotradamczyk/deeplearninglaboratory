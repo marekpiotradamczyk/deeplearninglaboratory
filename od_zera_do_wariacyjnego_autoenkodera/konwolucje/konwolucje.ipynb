{
 "cells": [
  {
   "cell_type": "markdown",
   "metadata": {
    "id": "ExAPwTcp2roi"
   },
   "source": [
    "# Konwolucje\n",
    "\n",
    "Dzięki uniwersalnemu twierdzeniu o aproksymacji dla sieci neuronowych, wiemy że sieci neuronowe składające się z warstw w pełni połączonych (perceptronów) może przybliżać dowolną funkcję ciągłą. Twierdzenie to nie daje nam sposobu na skontruowanie sieci neuronewej mogącej osiągnąć to zadanie w praktyce. Kedy dane wejściowe są obrazem, możemy skorzystać z pewnych założeń o tym jak powinna zachowywać się sieć neuronowa będąca w stanie rozpoznać obiekty znajdujące się na nim. Pomogą nam one znacznie ograniczyć ilość parametrów potrzebnych do jego przetworzenia, oraz uproszczą znacznie przestrzeń przeszukiwań dla Gradient Descentu.\n",
    "W tym notatniku skupimy się na zadaniu klasyfikacji obrazków cyfr z MNISTA - zbioru czarno białych obrazków 32x32 przedstawiających ręcznie pisane cyfry.\n",
    "\n",
    "[comment]: # (Tu fajnie byłoby przywołać MLP uczące się MNISTA - liczba parametrów tego a takiej konwolucyjnej)\n",
    "\n"
   ]
  },
  {
   "cell_type": "code",
   "execution_count": 1,
   "metadata": {
    "colab": {
     "base_uri": "https://localhost:8080/"
    },
    "executionInfo": {
     "elapsed": 89321,
     "status": "ok",
     "timestamp": 1713454756434,
     "user": {
      "displayName": "Mikołaj Hasik",
      "userId": "07053224988097047411"
     },
     "user_tz": -120
    },
    "id": "T3T3IkOE2rol",
    "outputId": "d6cb0c09-c831-40d9-bcf3-191d34347880"
   },
   "outputs": [
    {
     "name": "stdout",
     "output_type": "stream",
     "text": [
      "X_train shape: (7000, 784)\n",
      "y_train shape: (7000,)\n",
      "X_test shape: (63000, 784)\n",
      "y_test shape: (63000,)\n"
     ]
    }
   ],
   "source": [
    "#ładujemy dataset\n",
    "import numpy as np\n",
    "import matplotlib.pyplot as plt\n",
    "from sklearn import datasets\n",
    "from sklearn.model_selection import train_test_split\n",
    "\n",
    "mnist = datasets.fetch_openml('mnist_784', version=1)\n",
    "X, y = mnist.data.to_numpy(), mnist.target.astype(int)\n",
    "\n",
    "# Split data into training and testing sets\n",
    "X_train, X_test, y_train, y_test = train_test_split(X, y, test_size=0.9, random_state=42)\n",
    "\n",
    "# Output the shapes of the resulting datasets\n",
    "print(\"X_train shape:\", X_train.shape)\n",
    "print(\"y_train shape:\", y_train.shape)\n",
    "print(\"X_test shape:\", X_test.shape)\n",
    "print(\"y_test shape:\", y_test.shape)"
   ]
  },
  {
   "cell_type": "code",
   "execution_count": 2,
   "metadata": {
    "colab": {
     "base_uri": "https://localhost:8080/",
     "height": 135
    },
    "executionInfo": {
     "elapsed": 573,
     "status": "ok",
     "timestamp": 1713454757002,
     "user": {
      "displayName": "Mikołaj Hasik",
      "userId": "07053224988097047411"
     },
     "user_tz": -120
    },
    "id": "PPStwffH2roo",
    "outputId": "fb6ca21a-773e-43bd-ee09-961f8ed346d8"
   },
   "outputs": [
    {
     "data": {
      "image/png": "[encoded data removed]",
      "text/plain": [
       "<Figure size 1080x108 with 10 Axes>"
      ]
     },
     "metadata": {
      "needs_background": "light"
     },
     "output_type": "display_data"
    }
   ],
   "source": [
    "examples = {}\n",
    "\n",
    "# Szukamy wystąpienia każdej z cyfr\n",
    "for i in range(10):\n",
    "    idx = np.where(y_train == i)[0][0]  # Get the index of the first occurrence of the number i\n",
    "    examples[i] = X_train[idx].reshape(28, 28)\n",
    "\n",
    "# Zobaczmy jak wyglądają sample z każdej z cyfr\n",
    "fig, axs = plt.subplots(1, 10, figsize=(15, 1.5))\n",
    "\n",
    "for i in range(10):\n",
    "    axs[i].imshow(examples[i], cmap='gray')\n",
    "    axs[i].axis('off')\n",
    "\n",
    "plt.show()\n",
    "\n",
    "plt.show()"
   ]
  },
  {
   "cell_type": "markdown",
   "metadata": {
    "id": "GBqH3GWa2rop"
   },
   "source": [
    "Po pierwsze - jedynka pozostaje jedynką, niezależnie od tego czy znajduje się przy prawej czy lewej krawędzi obrazka - zatem chcemy aby wartość wyniku dla danego piksela była niezmiennicza na przesunięcia.\n",
    "Po drugie - chcemy aby wpływ na wynik miało jedynie pewne otoczenie danego piksela - dla obrazków tak małych jak w MNIST może i nie ma to większego znaczenia - ale znów kot pozostaje kotem niezależnie od tego co znajduje się na reszcie zdjęcia.\n",
    "[Okazuje się że te dwa warunki wystarczają aby ze standardowej w pełni połączonej warstwy otrzymać warstwę konowlucyjną](http://d2l.ai/chapter_convolutional-neural-networks/why-conv.html#)\n",
    "\n",
    "\n"
   ]
  },
  {
   "cell_type": "markdown",
   "metadata": {
    "id": "xuycdp_72roq"
   },
   "source": [
    "## Co to konwolucja?\n",
    "\n",
    "W pracy z obrazami korzystamy z 2-wymiarowych splotów, aby sąsadujące ze sobą piksele były\n",
    "Najłatwiej zrozumieć działanie splotu przez obrazek poniżej. W trakcie obliczania macierz filtru (kernel) przesuwa się po pozycjach na których całość filtra mieści się w ramach obrazka, oraz w każdym miejscu mnoży punktowo wartości w swoich komórkach z odpowiadającymi im wartościami pikseli na obrazku i sumuje wynik.\n",
    "\n",
    "![zdj1](img/iclh-diagram-convolutional-neural-networks.png)\n",
    "\n",
    "Jeśli obrazek ma wymiary $n\\times n$, a filtr $k\\times k$, wynik będzie miał wymiar $(n-k+1)\\times (n-k+1)$ ponieważ jest $n-k+1$ różnych sposobów na umieszczenie odcinka długości $k$ na odcinku długości $n$. Jeżeli chcemy, aby wymiary wyniku były równe wymiarom wejścia, możemy dodać padding - otoczyć obrazek odpowiednią ilością zer. Zobaczmy teraz implementacjię konwolucji w pythonie.\n",
    "\n",
    "![gif1](img/kernel_vis.gif)"
   ]
  },
  {
   "cell_type": "code",
   "execution_count": 3,
   "metadata": {
    "executionInfo": {
     "elapsed": 19,
     "status": "ok",
     "timestamp": 1713454757004,
     "user": {
      "displayName": "Mikołaj Hasik",
      "userId": "07053224988097047411"
     },
     "user_tz": -120
    },
    "id": "_R2tYk-92ror"
   },
   "outputs": [],
   "source": [
    "def convolve(img, kernel):\n",
    "    image_height, image_width = img.shape\n",
    "    filter_height, filter_width = kernel.shape\n",
    "    #rozmiar wyjścia - ponieważ mnożymy tylko miejsca w których  kernel w pełni przecina się z obrazkiem\n",
    "    output_height = image_height - filter_height + 1\n",
    "    output_width = image_width - filter_width + 1\n",
    "    output = np.zeros((output_height, output_width))\n",
    "    for i in range(output_height):\n",
    "        for j in range(output_width):\n",
    "            #mnożymy punktowo kolejne legalne fragmenty obrazka przez nasz filtr (kernel) i sumujemy aby otrzymać wynik w miejscu (i,j)\n",
    "            output[i, j] = np.sum(img[i:i+filter_height, j:j+filter_width] * kernel)\n",
    "    return output"
   ]
  },
  {
   "cell_type": "markdown",
   "metadata": {
    "id": "S4bPKJC72ros"
   },
   "source": [
    "Oto przykładowe filtry używane w przetwarzaniu obrazów"
   ]
  },
  {
   "cell_type": "code",
   "execution_count": 4,
   "metadata": {
    "executionInfo": {
     "elapsed": 17,
     "status": "ok",
     "timestamp": 1713454757005,
     "user": {
      "displayName": "Mikołaj Hasik",
      "userId": "07053224988097047411"
     },
     "user_tz": -120
    },
    "id": "cBF4DzxP2ros"
   },
   "outputs": [],
   "source": [
    "verical_edge= np.array([\n",
    "    [-1, 0, 1],\n",
    "    [-2, 0, 2],\n",
    "    [-1, 0, 1]\n",
    "])\n",
    "\n",
    "horizontal_edge=verical_edge.T\n",
    "\n",
    "sharpening = np.array([\n",
    "    [0, -1, 0],\n",
    "    [-1, 5, -1],\n",
    "    [0, -1, 0]\n",
    "])\n",
    "gaussian_blur = np.array([\n",
    "    [1, 2, 1],\n",
    "    [2, 4, 2],\n",
    "    [1, 2, 1]\n",
    "])\n",
    "\n",
    "diagonal_edge1=np.array([\n",
    " [2,  1,  0],\n",
    " [1,  0, -1],\n",
    " [0, -1, -2]])\n",
    "\n",
    "diagonal_edge2=np.array([\n",
    " [0,  1,  2],\n",
    " [-1,  0, 1],\n",
    " [-2, -1, 0]])\n",
    "\n",
    "OnlyCrop=np.array([\n",
    " [0,  0,  0],\n",
    " [0,  1, 0],\n",
    " [0, 0, 0]])"
   ]
  },
  {
   "cell_type": "code",
   "execution_count": 5,
   "metadata": {
    "colab": {
     "base_uri": "https://localhost:8080/",
     "height": 381
    },
    "executionInfo": {
     "elapsed": 2125,
     "status": "ok",
     "timestamp": 1713454759116,
     "user": {
      "displayName": "Mikołaj Hasik",
      "userId": "07053224988097047411"
     },
     "user_tz": -120
    },
    "id": "Vrsh3Wir2rou",
    "outputId": "6e89b0ec-602c-41f7-d006-5662e6322715"
   },
   "outputs": [
    {
     "data": {
      "image/png": "[encoded data removed]",
      "text/plain": [
       "<Figure size 1152x144 with 8 Axes>"
      ]
     },
     "metadata": {
      "needs_background": "light"
     },
     "output_type": "display_data"
    },
    {
     "name": "stdout",
     "output_type": "stream",
     "text": [
      "(28, 28)\n",
      "(26, 26)\n"
     ]
    },
    {
     "data": {
      "image/png": "[encoded data removed]",
      "text/plain": [
       "<Figure size 576x72 with 8 Axes>"
      ]
     },
     "metadata": {
      "needs_background": "light"
     },
     "output_type": "display_data"
    }
   ],
   "source": [
    "filters=[verical_edge,horizontal_edge,sharpening,diagonal_edge1,diagonal_edge2,OnlyCrop]\n",
    "\n",
    "# konwolucje obrazka z naszymi filtrami\n",
    "edges_detected = convolve(examples[0], verical_edge)\n",
    "vedges_detected = convolve(examples[0], horizontal_edge)\n",
    "sharpened_img= convolve(examples[0], sharpening)\n",
    "blured_img= convolve(examples[0], gaussian_blur)\n",
    "d1edges=convolve(examples[0],diagonal_edge1)\n",
    "d2edges=convolve(examples[0],diagonal_edge2)\n",
    "cut=convolve(examples[0],OnlyCrop)\n",
    "\n",
    "#wyświetlamy obrazki\n",
    "plt.figure(figsize=(16, 2))\n",
    "plt.subplot(1, 8, 1)\n",
    "plt.imshow(examples[0], cmap='gray')\n",
    "plt.title('Oryginalny Obrazek')\n",
    "plt.subplot(1, 8, 2)\n",
    "plt.imshow(edges_detected, cmap='gray')\n",
    "plt.title('filtr sobela')\n",
    "plt.subplot(1, 8, 3)\n",
    "plt.imshow(vedges_detected, cmap='gray')\n",
    "plt.title('filtr pionowy')\n",
    "plt.subplot(1, 8, 4)\n",
    "plt.imshow(sharpened_img, cmap='gray')\n",
    "plt.title('filtr sharpen')\n",
    "plt.subplot(1, 8, 5)\n",
    "plt.imshow(blured_img, cmap='gray')\n",
    "plt.title('filtr blur')\n",
    "plt.subplot(1, 8, 6)\n",
    "plt.imshow(d1edges, cmap='gray')\n",
    "plt.title('przekątna 1')\n",
    "plt.subplot(1, 8, 7)\n",
    "plt.imshow(d2edges, cmap='gray')\n",
    "plt.title('przekątna 2')\n",
    "plt.subplot(1, 8, 8)\n",
    "plt.imshow(cut, cmap='gray')\n",
    "plt.title('obcięcie')\n",
    "plt.show()\n",
    "print(examples[0].shape)\n",
    "print(cut.shape)\n",
    "\n",
    "\n",
    "#wyświetlamy filtry\n",
    "plt.figure(figsize=(8, 1))\n",
    "plt.subplot(1, 8, 1)\n",
    "plt.imshow(verical_edge, cmap='gray')\n",
    "plt.title('Oryginalny Obrazek')\n",
    "plt.subplot(1, 8, 2)\n",
    "plt.imshow(horizontal_edge, cmap='gray')\n",
    "plt.title('filtr sobela')\n",
    "plt.subplot(1, 8, 3)\n",
    "plt.imshow(sharpening, cmap='gray')\n",
    "plt.title('filtr pionowy')\n",
    "plt.subplot(1, 8, 4)\n",
    "plt.imshow(gaussian_blur, cmap='gray')\n",
    "plt.title('filtr sharpen')\n",
    "plt.subplot(1, 8, 5)\n",
    "plt.imshow(diagonal_edge1, cmap='gray')\n",
    "plt.title('filtr blur')\n",
    "plt.subplot(1, 8, 6)\n",
    "plt.imshow(diagonal_edge2, cmap='gray')\n",
    "plt.title('przekątna 1')\n",
    "plt.subplot(1, 8, 7)\n",
    "plt.imshow(OnlyCrop, cmap='gray')\n",
    "plt.title('przekątna 2')\n",
    "plt.subplot(1, 8, 8)\n",
    "plt.imshow(cut, cmap='gray')\n",
    "plt.title('obcięcie')\n",
    "plt.show()"
   ]
  },
  {
   "cell_type": "code",
   "execution_count": 6,
   "metadata": {
    "id": "C0MV6HlV2rov"
   },
   "outputs": [],
   "source": [
    "#tu o paddingu"
   ]
  },
  {
   "cell_type": "markdown",
   "metadata": {
    "id": "_kyCFf9_2rov"
   },
   "source": []
  },
  {
   "cell_type": "markdown",
   "metadata": {
    "id": "HkWpz9Ih2rov"
   },
   "source": [
    "# Filtry dają feature'y\n",
    "Spróbujemy teraz sklasyfikować odpowienio cyfry za pomocą regresji logistycznej."
   ]
  },
  {
   "cell_type": "code",
   "execution_count": 7,
   "metadata": {
    "colab": {
     "base_uri": "https://localhost:8080/"
    },
    "executionInfo": {
     "elapsed": 6644,
     "status": "ok",
     "timestamp": 1713454765750,
     "user": {
      "displayName": "Mikołaj Hasik",
      "userId": "07053224988097047411"
     },
     "user_tz": -120
    },
    "id": "k8y_cITa2row",
    "outputId": "c928978b-b3fb-4f58-f5a1-da07c0118ed1"
   },
   "outputs": [
    {
     "name": "stderr",
     "output_type": "stream",
     "text": [
      "[Parallel(n_jobs=6)]: Using backend LokyBackend with 6 concurrent workers.\n",
      "[Parallel(n_jobs=6)]: Done   1 out of   1 | elapsed:    5.5s finished\n"
     ]
    }
   ],
   "source": [
    "from sklearn.linear_model import LogisticRegression\n",
    "\n",
    "clf_simple = LogisticRegression(random_state=0, max_iter=100, verbose=True, n_jobs=6).fit(X_train, y_train)"
   ]
  },
  {
   "cell_type": "markdown",
   "metadata": {
    "id": "f-97obpy2rox"
   },
   "source": [
    "Jak widać, ponieważ MNIST jest łatwym datasetem, sama regresja osiąga dobry wynik. Ale możemy lepiej!"
   ]
  },
  {
   "cell_type": "code",
   "execution_count": 8,
   "metadata": {
    "id": "dP4XQqOs2rox",
    "outputId": "59c9980d-228d-4606-cda3-65cfcdeea9eb"
   },
   "outputs": [
    {
     "name": "stdout",
     "output_type": "stream",
     "text": [
      "0.8690952380952381\n"
     ]
    }
   ],
   "source": [
    "y_pred = clf_simple.predict(X_test)\n",
    "print((y_test == y_pred).mean())"
   ]
  },
  {
   "cell_type": "markdown",
   "metadata": {
    "id": "3GtAr3sm2rox"
   },
   "source": [
    "# Filtry jako feature'y\n",
    "Użyjemy teraz filtrów z wcześniejszego przykładu, aby wyciągnąć więcej informacji o strukturze naszych danych, dzięki czemu uzyskamy lepszy wynik"
   ]
  },
  {
   "cell_type": "code",
   "execution_count": 9,
   "metadata": {
    "colab": {
     "base_uri": "https://localhost:8080/"
    },
    "executionInfo": {
     "elapsed": 281,
     "status": "ok",
     "timestamp": 1713454786689,
     "user": {
      "displayName": "Mikołaj Hasik",
      "userId": "07053224988097047411"
     },
     "user_tz": -120
    },
    "id": "HUFtmOCL2rox",
    "outputId": "1900e3af-69b9-4f76-8b86-557193a069dc"
   },
   "outputs": [
    {
     "name": "stdout",
     "output_type": "stream",
     "text": [
      "(7000, 28, 28)\n"
     ]
    }
   ],
   "source": [
    "X_train_with_conv=X_train.reshape(-1,28, 28)\n",
    "X_test_with_conv=X_test.reshape(-1,28, 28)\n",
    "print(X_train_with_conv.shape)\n",
    "\n"
   ]
  },
  {
   "cell_type": "code",
   "execution_count": 10,
   "metadata": {
    "id": "JDwLFeJm2roy",
    "outputId": "81093132-455b-4207-ebf0-90c3b28dbd89"
   },
   "outputs": [
    {
     "ename": "KeyboardInterrupt",
     "evalue": "",
     "output_type": "error",
     "traceback": [
      "\u001b[1;31m---------------------------------------------------------------------------\u001b[0m",
      "\u001b[1;31mKeyboardInterrupt\u001b[0m                         Traceback (most recent call last)",
      "\u001b[1;32m<ipython-input-10-98851f7b9b4d>\u001b[0m in \u001b[0;36m<module>\u001b[1;34m\u001b[0m\n\u001b[0;32m     12\u001b[0m \u001b[1;33m\u001b[0m\u001b[0m\n\u001b[0;32m     13\u001b[0m \u001b[1;31m# Apply filters to X_train\u001b[0m\u001b[1;33m\u001b[0m\u001b[1;33m\u001b[0m\u001b[1;33m\u001b[0m\u001b[0m\n\u001b[1;32m---> 14\u001b[1;33m \u001b[0mfiltered_images\u001b[0m \u001b[1;33m=\u001b[0m \u001b[0mapply_filters\u001b[0m\u001b[1;33m(\u001b[0m\u001b[0mX_train_with_conv\u001b[0m\u001b[1;33m,\u001b[0m \u001b[0mfilters\u001b[0m\u001b[1;33m)\u001b[0m\u001b[1;33m\u001b[0m\u001b[1;33m\u001b[0m\u001b[0m\n\u001b[0m\u001b[0;32m     15\u001b[0m \u001b[1;33m\u001b[0m\u001b[0m\n\u001b[0;32m     16\u001b[0m \u001b[1;31m# Output the shape of the filtered images array\u001b[0m\u001b[1;33m\u001b[0m\u001b[1;33m\u001b[0m\u001b[1;33m\u001b[0m\u001b[0m\n",
      "\u001b[1;32m<ipython-input-10-98851f7b9b4d>\u001b[0m in \u001b[0;36mapply_filters\u001b[1;34m(X_train, filters)\u001b[0m\n\u001b[0;32m      7\u001b[0m         \u001b[1;32mfor\u001b[0m \u001b[0mj\u001b[0m\u001b[1;33m,\u001b[0m \u001b[0mkernel\u001b[0m \u001b[1;32min\u001b[0m \u001b[0menumerate\u001b[0m\u001b[1;33m(\u001b[0m\u001b[0mfilters\u001b[0m\u001b[1;33m)\u001b[0m\u001b[1;33m:\u001b[0m\u001b[1;33m\u001b[0m\u001b[1;33m\u001b[0m\u001b[0m\n\u001b[0;32m      8\u001b[0m             \u001b[1;31m#można uruchomić to z naszą funkcją convolve, ale wbudowana funkcja będzie znacznie szybsza od działania na pythonowych tablicach\u001b[0m\u001b[1;33m\u001b[0m\u001b[1;33m\u001b[0m\u001b[1;33m\u001b[0m\u001b[0m\n\u001b[1;32m----> 9\u001b[1;33m             \u001b[0moutput\u001b[0m\u001b[1;33m[\u001b[0m\u001b[0mi\u001b[0m\u001b[1;33m,\u001b[0m \u001b[1;33m:\u001b[0m\u001b[1;33m,\u001b[0m \u001b[1;33m:\u001b[0m\u001b[1;33m,\u001b[0m \u001b[0mj\u001b[0m\u001b[1;33m]\u001b[0m \u001b[1;33m=\u001b[0m \u001b[0mconvolve\u001b[0m\u001b[1;33m(\u001b[0m\u001b[0mX_train\u001b[0m\u001b[1;33m[\u001b[0m\u001b[0mi\u001b[0m\u001b[1;33m]\u001b[0m\u001b[1;33m,\u001b[0m \u001b[0mkernel\u001b[0m\u001b[1;33m)\u001b[0m\u001b[1;33m\u001b[0m\u001b[1;33m\u001b[0m\u001b[0m\n\u001b[0m\u001b[0;32m     10\u001b[0m \u001b[1;33m\u001b[0m\u001b[0m\n\u001b[0;32m     11\u001b[0m     \u001b[1;32mreturn\u001b[0m \u001b[0moutput\u001b[0m\u001b[1;33m\u001b[0m\u001b[1;33m\u001b[0m\u001b[0m\n",
      "\u001b[1;31mKeyboardInterrupt\u001b[0m: "
     ]
    }
   ],
   "source": [
    "def apply_filters(X_train, filters):\n",
    "    num_samples, height, width = X_train.shape\n",
    "    num_filters = len(filters)\n",
    "    output = np.zeros((num_samples, height - filters[0].shape[0] + 1, width - filters[0].shape[1] + 1, num_filters))\n",
    "\n",
    "    for i in range(num_samples):\n",
    "        for j, kernel in enumerate(filters):\n",
    "            #można uruchomić to z naszą funkcją convolve, ale wbudowana funkcja będzie znacznie szybsza od działania na pythonowych tablicach\n",
    "            output[i, :, :, j] = convolve(X_train[i], kernel)\n",
    "\n",
    "    return output\n",
    "\n",
    "# Apply filters to X_train\n",
    "filtered_images = apply_filters(X_train_with_conv, filters)\n",
    "\n",
    "# Output the shape of the filtered images array\n",
    "print(\"Shape of filtered images:\", filtered_images.shape)"
   ]
  },
  {
   "cell_type": "code",
   "execution_count": null,
   "metadata": {
    "id": "n6X5ico52roz",
    "outputId": "51437bab-8c1e-4715-a68e-05e3db3ede70"
   },
   "outputs": [],
   "source": [
    "X_filtered=filtered_images.reshape(-1,26*26*len(filters))\n",
    "clf_with_conv = LogisticRegression(random_state=0, max_iter=100, verbose=True, n_jobs=6).fit(X_filtered, y_train)\n"
   ]
  },
  {
   "cell_type": "code",
   "execution_count": null,
   "metadata": {
    "id": "MBdAKiRh2roz",
    "outputId": "9db162d1-9f0b-4cff-f5f9-d01201b00415"
   },
   "outputs": [],
   "source": [
    "Test_filtered=apply_filters(X_test_with_conv,filters)\n"
   ]
  },
  {
   "cell_type": "code",
   "execution_count": null,
   "metadata": {
    "id": "KrvUqxpU2ro0",
    "outputId": "5858ce57-181d-4786-cde5-78a5658c2726"
   },
   "outputs": [],
   "source": [
    "print(Test_filtered.shape)\n",
    "y_pred = clf_with_conv.predict(Test_filtered.reshape(-1,26*26*len(filters)))\n",
    "print((y_test == y_pred).mean())"
   ]
  },
  {
   "cell_type": "markdown",
   "metadata": {
    "id": "X-DJUvXe2ro1"
   },
   "source": [
    "Jak widać, wyciągnięcie feature'ów za pomocą naszych filtrów pomogło w wytrenowaniu regresji. Zauważmy że to co zaimplementowaliśmy jest w zasadzie siecią neuronową z jedną warstwą konwolucyjną, aktywacją f(x)=x oraz warstwą w pełni połączoną; z tym, że trenowaliśmy jedynie warstwę w pełni połączoną, a filtry wybraliśmy ręcznie. Przejdźmy więc do do kilkuwarstwowej sieci konwolucyjnej, która będzie uczyć się wartości filtrów podobnie jak warstwy połączonej"
   ]
  },
  {
   "cell_type": "markdown",
   "metadata": {
    "id": "qHO4ePc92ro2"
   },
   "source": [
    "# Sieć neuronowa konwolucyjna dla mnista"
   ]
  },
  {
   "cell_type": "code",
   "execution_count": null,
   "metadata": {
    "id": "QtGFKwVs2ro3"
   },
   "outputs": [],
   "source": []
  },
  {
   "cell_type": "code",
   "execution_count": null,
   "metadata": {
    "id": "nKnGgU1c2ro3"
   },
   "outputs": [],
   "source": []
  },
  {
   "cell_type": "markdown",
   "metadata": {
    "id": "u777SA_s2ro3"
   },
   "source": [
    "![image.png](attachment:image.png)"
   ]
  },
  {
   "cell_type": "markdown",
   "metadata": {
    "id": "S5xWqHOW2ro3"
   },
   "source": [
    "teraz na mniscie to samo co na konkursie z patchami z kmeansow"
   ]
  },
  {
   "cell_type": "code",
   "execution_count": 11,
   "metadata": {
    "colab": {
     "base_uri": "https://localhost:8080/"
    },
    "executionInfo": {
     "elapsed": 345,
     "status": "ok",
     "timestamp": 1713454792992,
     "user": {
      "displayName": "Mikołaj Hasik",
      "userId": "07053224988097047411"
     },
     "user_tz": -120
    },
    "id": "y_Aq5sD22ro3",
    "outputId": "415cc09f-870e-4470-8dca-fe10a47d535c"
   },
   "outputs": [
    {
     "name": "stdout",
     "output_type": "stream",
     "text": [
      "(28072, 49)\n"
     ]
    }
   ],
   "source": [
    "PATCH_SIZE = 7\n",
    "STRIDE = 7\n",
    "patch_num = 7000*4\n",
    "patches = []\n",
    "\n",
    "for i in range(patch_num):\n",
    "  for r in range(28-PATCH_SIZE+1):\n",
    "    for c in range(28-PATCH_SIZE+1):\n",
    "      patch = X_train_with_conv[i][c:(c+PATCH_SIZE),r:(r+PATCH_SIZE)]\n",
    "      #print(patch.shape)\n",
    "      #patch_norm = normalize_patch(patch, eps=10)\n",
    "      patches.append(patch.flatten())\n",
    "  if len(patches) >= patch_num:\n",
    "    break\n",
    "\n",
    "P = np.vstack(patches)\n",
    "print(P.shape)"
   ]
  },
  {
   "cell_type": "code",
   "execution_count": 12,
   "metadata": {
    "colab": {
     "base_uri": "https://localhost:8080/"
    },
    "executionInfo": {
     "elapsed": 944,
     "status": "ok",
     "timestamp": 1713454798739,
     "user": {
      "displayName": "Mikołaj Hasik",
      "userId": "07053224988097047411"
     },
     "user_tz": -120
    },
    "id": "zirQ73So2ro5",
    "outputId": "e214d300-a54a-4abd-8954-0b90ed551d78"
   },
   "outputs": [
    {
     "name": "stdout",
     "output_type": "stream",
     "text": [
      "Init 1/1 with method: k-means++\n",
      "Inertia for init 1/1: 2446147595.087670\n",
      "Minibatch iteration 1/1000: mean batch inertia: 116083.568213, ewa inertia: 116083.568213 \n",
      "Minibatch iteration 2/1000: mean batch inertia: 115148.738583, ewa inertia: 115617.368846 \n",
      "Minibatch iteration 3/1000: mean batch inertia: 117354.870210, ewa inertia: 116483.860461 \n",
      "Minibatch iteration 4/1000: mean batch inertia: 114792.204357, ewa inertia: 115640.231869 \n",
      "Minibatch iteration 5/1000: mean batch inertia: 114242.311348, ewa inertia: 114943.089159 \n",
      "Minibatch iteration 6/1000: mean batch inertia: 114302.575593, ewa inertia: 114623.665160 \n",
      "Minibatch iteration 7/1000: mean batch inertia: 111752.709153, ewa inertia: 113191.919921 \n",
      "Minibatch iteration 8/1000: mean batch inertia: 112040.916322, ewa inertia: 112617.914635 \n",
      "Minibatch iteration 9/1000: mean batch inertia: 116166.696154, ewa inertia: 114387.691334 \n",
      "Minibatch iteration 10/1000: mean batch inertia: 111729.032306, ewa inertia: 113061.818560 \n",
      "Minibatch iteration 11/1000: mean batch inertia: 111439.286039, ewa inertia: 112252.661886 \n",
      "Minibatch iteration 12/1000: mean batch inertia: 112140.026759, ewa inertia: 112196.490769 \n",
      "Minibatch iteration 13/1000: mean batch inertia: 115481.398357, ewa inertia: 113834.673586 \n",
      "Minibatch iteration 14/1000: mean batch inertia: 112328.210275, ewa inertia: 113083.400606 \n",
      "Minibatch iteration 15/1000: mean batch inertia: 113025.763646, ewa inertia: 113054.657065 \n",
      "Minibatch iteration 16/1000: mean batch inertia: 110589.578811, ewa inertia: 111825.322988 \n",
      "Minibatch iteration 17/1000: mean batch inertia: 114239.939732, ewa inertia: 113029.491919 \n",
      "Minibatch iteration 18/1000: mean batch inertia: 113311.480905, ewa inertia: 113170.119775 \n",
      "Minibatch iteration 19/1000: mean batch inertia: 111782.107624, ewa inertia: 112477.918367 \n",
      "Minibatch iteration 20/1000: mean batch inertia: 114811.437780, ewa inertia: 113641.644075 \n",
      "Minibatch iteration 21/1000: mean batch inertia: 113117.487779, ewa inertia: 113380.247425 \n",
      "Minibatch iteration 22/1000: mean batch inertia: 111087.731188, ewa inertia: 112236.969994 \n",
      "Minibatch iteration 23/1000: mean batch inertia: 112075.151396, ewa inertia: 112156.271089 \n",
      "Minibatch iteration 24/1000: mean batch inertia: 112077.029554, ewa inertia: 112116.753349 \n",
      "Minibatch iteration 25/1000: mean batch inertia: 112166.043337, ewa inertia: 112141.334257 \n",
      "Minibatch iteration 26/1000: mean batch inertia: 111396.037129, ewa inertia: 111769.654715 \n",
      "Minibatch iteration 27/1000: mean batch inertia: 113049.963573, ewa inertia: 112408.144510 \n",
      "Minibatch iteration 28/1000: mean batch inertia: 112432.701868, ewa inertia: 112420.391260 \n",
      "Minibatch iteration 29/1000: mean batch inertia: 113313.690410, ewa inertia: 112865.879384 \n",
      "Minibatch iteration 30/1000: mean batch inertia: 113007.543752, ewa inertia: 112936.527379 \n",
      "Minibatch iteration 31/1000: mean batch inertia: 113639.341379, ewa inertia: 113287.020593 \n",
      "Minibatch iteration 32/1000: mean batch inertia: 110893.526926, ewa inertia: 112093.385736 \n",
      "Minibatch iteration 33/1000: mean batch inertia: 114605.172935, ewa inertia: 113346.013556 \n",
      "Minibatch iteration 34/1000: mean batch inertia: 110151.887745, ewa inertia: 111753.103594 \n",
      "Minibatch iteration 35/1000: mean batch inertia: 113055.157342, ewa inertia: 112402.437562 \n",
      "Minibatch iteration 36/1000: mean batch inertia: 110681.837753, ewa inertia: 111544.374750 \n",
      "Minibatch iteration 37/1000: mean batch inertia: 110983.813825, ewa inertia: 111264.823118 \n",
      "Minibatch iteration 38/1000: mean batch inertia: 111121.848513, ewa inertia: 111193.521708 \n",
      "Minibatch iteration 39/1000: mean batch inertia: 113755.797763, ewa inertia: 112471.328311 \n",
      "Minibatch iteration 40/1000: mean batch inertia: 112068.274607, ewa inertia: 112270.325502 \n",
      "Minibatch iteration 41/1000: mean batch inertia: 112150.819337, ewa inertia: 112210.727799 \n",
      "Minibatch iteration 42/1000: mean batch inertia: 115228.808336, ewa inertia: 113715.844015 \n",
      "Minibatch iteration 43/1000: mean batch inertia: 113089.002287, ewa inertia: 113403.238159 \n",
      "Minibatch iteration 44/1000: mean batch inertia: 113333.708951, ewa inertia: 113368.563956 \n",
      "Minibatch iteration 45/1000: mean batch inertia: 108767.832044, ewa inertia: 111074.179787 \n",
      "Minibatch iteration 46/1000: mean batch inertia: 114228.664996, ewa inertia: 112647.320988 \n",
      "Minibatch iteration 47/1000: mean batch inertia: 109016.086461, ewa inertia: 110836.424989 \n",
      "Minibatch iteration 48/1000: mean batch inertia: 110920.674474, ewa inertia: 110878.440192 \n",
      "Minibatch iteration 49/1000: mean batch inertia: 113087.877520, ewa inertia: 111980.286186 \n",
      "Minibatch iteration 50/1000: mean batch inertia: 112859.705368, ewa inertia: 112418.852372 \n",
      "Minibatch iteration 51/1000: mean batch inertia: 110451.146184, ewa inertia: 111437.557654 \n",
      "Minibatch iteration 52/1000: mean batch inertia: 111217.993185, ewa inertia: 111328.060893 \n",
      "Minibatch iteration 53/1000: mean batch inertia: 116410.640260, ewa inertia: 113862.742300 \n",
      "Minibatch iteration 54/1000: mean batch inertia: 113469.966205, ewa inertia: 113666.864933 \n",
      "Minibatch iteration 55/1000: mean batch inertia: 113679.456020, ewa inertia: 113673.144106 \n",
      "Minibatch iteration 56/1000: mean batch inertia: 110705.085003, ewa inertia: 112192.973570 \n",
      "Minibatch iteration 57/1000: mean batch inertia: 110805.015999, ewa inertia: 111500.799382 \n",
      "Converged (lack of improvement in inertia) at iteration 57/1000\n",
      "Computing label assignment and total inertia\n"
     ]
    },
    {
     "data": {
      "text/plain": [
       "(64, 49)"
      ]
     },
     "execution_count": 12,
     "metadata": {},
     "output_type": "execute_result"
    }
   ],
   "source": [
    "from sklearn.cluster import KMeans, MiniBatchKMeans\n",
    "import numpy as np\n",
    "k_root=8\n",
    "k=64 #trochę jak 32 filtry w 1 warstwie sieci\n",
    "kmeans = MiniBatchKMeans(n_clusters=k, random_state=0, verbose=True, n_init=1, max_iter=200, batch_size=7000).fit(P)\n",
    "kmeans.labels_\n",
    "kmeans.cluster_centers_\n",
    "filters_final = kmeans.cluster_centers_\n",
    "filters_final.shape\n"
   ]
  },
  {
   "cell_type": "code",
   "execution_count": 13,
   "metadata": {
    "colab": {
     "base_uri": "https://localhost:8080/",
     "height": 653
    },
    "executionInfo": {
     "elapsed": 2058,
     "status": "ok",
     "timestamp": 1713454803851,
     "user": {
      "displayName": "Mikołaj Hasik",
      "userId": "07053224988097047411"
     },
     "user_tz": -120
    },
    "id": "gFxKrPJd2ro5",
    "outputId": "8cf1f4d3-1115-40f6-cff4-5d9df44886b4"
   },
   "outputs": [
    {
     "data": {
      "image/png": "[encoded data removed]",
      "text/plain": [
       "<Figure size 576x576 with 64 Axes>"
      ]
     },
     "metadata": {
      "needs_background": "light"
     },
     "output_type": "display_data"
    }
   ],
   "source": [
    "plt.figure(figsize=(k_root,k_root))\n",
    "for xx in range(k):\n",
    "    plt.subplot(k_root,k_root,xx+1)\n",
    "    plt.imshow((filters_final[xx]).reshape(PATCH_SIZE, PATCH_SIZE), cmap=plt.get_cmap('gray'))\n",
    "    plt.axis('off')\n"
   ]
  },
  {
   "cell_type": "code",
   "execution_count": 14,
   "metadata": {
    "colab": {
     "base_uri": "https://localhost:8080/"
    },
    "executionInfo": {
     "elapsed": 60048,
     "status": "ok",
     "timestamp": 1713454869214,
     "user": {
      "displayName": "Mikołaj Hasik",
      "userId": "07053224988097047411"
     },
     "user_tz": -120
    },
    "id": "C08mN-5e2ro5",
    "outputId": "9dc9687a-b8c9-4c82-96cf-e991dc995e08"
   },
   "outputs": [
    {
     "name": "stdout",
     "output_type": "stream",
     "text": [
      "Shape of filtered images: (7000, 22, 22, 64)\n"
     ]
    }
   ],
   "source": [
    "# użyjemy bibliotecznej implementacji konwolucji - jest szybsza\n",
    "from scipy.signal import convolve2d\n",
    "\n",
    "def apply_filters(X_train, filters):\n",
    "    num_samples, height, width = X_train.shape\n",
    "    num_filters = len(filters)\n",
    "    output = np.zeros((num_samples, height - filters[0].shape[0] + 1, width - filters[0].shape[1] + 1, num_filters))\n",
    "\n",
    "    for i in range(num_samples):\n",
    "        for j, kernel in enumerate(filters):\n",
    "            #można uruchomić to z naszą funkcją convolve, ale wbudowana funkcja będzie znacznie szybsza od działania na pythonowych tablicach\n",
    "            output[i, :, :, j] = convolve2d(X_train[i], kernel, mode='valid')\n",
    "\n",
    "    return output\n",
    "\n",
    "k_means_filters=filters_final.reshape(-1,7,7)\n",
    "# Apply filters to X_train\n",
    "filtered_k_means = apply_filters(X_train_with_conv, k_means_filters)\n",
    "\n",
    "# Output the shape of the filtered images array\n",
    "print(\"Shape of filtered images:\", filtered_k_means.shape)"
   ]
  },
  {
   "cell_type": "code",
   "execution_count": 32,
   "metadata": {},
   "outputs": [],
   "source": [
    "def test_results(inputs,filters,labels,data_size,batches=100):\n",
    "    batch_size=int(data_size/batches)\n",
    "    y_pred=[]\n",
    "    print(inputs.shape)\n",
    "    print(batch_size)\n",
    "    for i in range(batches):\n",
    "        filtered_batch=apply_filters(inputs[i*batch_size:(i+1)*batch_size,:,:],filters)\n",
    "        y_pred.append(clf_with_conv.predict(filtered_batch.reshape(-1,22*22*len(k_means_filters))))\n",
    "        print(f\"batch {i} done\")\n",
    "    return y_pred"
   ]
  },
  {
   "cell_type": "code",
   "execution_count": 20,
   "metadata": {
    "colab": {
     "base_uri": "https://localhost:8080/"
    },
    "executionInfo": {
     "elapsed": 132727,
     "status": "ok",
     "timestamp": 1713455007021,
     "user": {
      "displayName": "Mikołaj Hasik",
      "userId": "07053224988097047411"
     },
     "user_tz": -120
    },
    "id": "R12uSoCg2ro5",
    "outputId": "c9e156d0-d039-426c-b70e-61d488c1c408"
   },
   "outputs": [
    {
     "name": "stderr",
     "output_type": "stream",
     "text": [
      "[Parallel(n_jobs=6)]: Using backend LokyBackend with 6 concurrent workers.\n",
      "[Parallel(n_jobs=6)]: Done   1 out of   1 | elapsed:  2.7min finished\n"
     ]
    }
   ],
   "source": [
    "clf_with_conv = LogisticRegression(random_state=0, max_iter=100, verbose=True, n_jobs=6).fit(filtered_k_means.reshape(-1,22*22*len(k_means_filters)), y_train)\n"
   ]
  },
  {
   "cell_type": "code",
   "execution_count": 33,
   "metadata": {},
   "outputs": [
    {
     "name": "stdout",
     "output_type": "stream",
     "text": [
      "(63000, 28, 28)\n",
      "630\n",
      "batch 0 done\n",
      "batch 1 done\n",
      "batch 2 done\n",
      "batch 3 done\n",
      "batch 4 done\n",
      "batch 5 done\n",
      "batch 6 done\n",
      "batch 7 done\n",
      "batch 8 done\n",
      "batch 9 done\n",
      "batch 10 done\n",
      "batch 11 done\n",
      "batch 12 done\n",
      "batch 13 done\n",
      "batch 14 done\n",
      "batch 15 done\n",
      "batch 16 done\n",
      "batch 17 done\n",
      "batch 18 done\n",
      "batch 19 done\n",
      "batch 20 done\n",
      "batch 21 done\n",
      "batch 22 done\n",
      "batch 23 done\n",
      "batch 24 done\n",
      "batch 25 done\n",
      "batch 26 done\n",
      "batch 27 done\n",
      "batch 28 done\n",
      "batch 29 done\n",
      "batch 30 done\n",
      "batch 31 done\n",
      "batch 32 done\n",
      "batch 33 done\n",
      "batch 34 done\n",
      "batch 35 done\n",
      "batch 36 done\n",
      "batch 37 done\n",
      "batch 38 done\n",
      "batch 39 done\n",
      "batch 40 done\n",
      "batch 41 done\n",
      "batch 42 done\n",
      "batch 43 done\n",
      "batch 44 done\n",
      "batch 45 done\n",
      "batch 46 done\n",
      "batch 47 done\n",
      "batch 48 done\n",
      "batch 49 done\n",
      "batch 50 done\n",
      "batch 51 done\n",
      "batch 52 done\n",
      "batch 53 done\n",
      "batch 54 done\n",
      "batch 55 done\n",
      "batch 56 done\n",
      "batch 57 done\n",
      "batch 58 done\n",
      "batch 59 done\n",
      "batch 60 done\n",
      "batch 61 done\n",
      "batch 62 done\n",
      "batch 63 done\n",
      "batch 64 done\n",
      "batch 65 done\n",
      "batch 66 done\n",
      "batch 67 done\n",
      "batch 68 done\n",
      "batch 69 done\n",
      "batch 70 done\n",
      "batch 71 done\n",
      "batch 72 done\n",
      "batch 73 done\n",
      "batch 74 done\n",
      "batch 75 done\n",
      "batch 76 done\n",
      "batch 77 done\n",
      "batch 78 done\n",
      "batch 79 done\n",
      "batch 80 done\n",
      "batch 81 done\n",
      "batch 82 done\n",
      "batch 83 done\n",
      "batch 84 done\n",
      "batch 85 done\n",
      "batch 86 done\n",
      "batch 87 done\n",
      "batch 88 done\n",
      "batch 89 done\n",
      "batch 90 done\n",
      "batch 91 done\n",
      "batch 92 done\n",
      "batch 93 done\n",
      "batch 94 done\n",
      "batch 95 done\n",
      "batch 96 done\n",
      "batch 97 done\n",
      "batch 98 done\n",
      "batch 99 done\n"
     ]
    },
    {
     "ename": "NameError",
     "evalue": "name 'numpy' is not defined",
     "output_type": "error",
     "traceback": [
      "\u001b[1;31m---------------------------------------------------------------------------\u001b[0m",
      "\u001b[1;31mNameError\u001b[0m                                 Traceback (most recent call last)",
      "\u001b[1;32m<ipython-input-33-1cd543cd1ee9>\u001b[0m in \u001b[0;36m<module>\u001b[1;34m\u001b[0m\n\u001b[0;32m      1\u001b[0m \u001b[0my_test_res\u001b[0m\u001b[1;33m=\u001b[0m\u001b[0mtest_results\u001b[0m\u001b[1;33m(\u001b[0m\u001b[0mX_test_with_conv\u001b[0m\u001b[1;33m,\u001b[0m\u001b[0mk_means_filters\u001b[0m\u001b[1;33m,\u001b[0m\u001b[0my_test\u001b[0m\u001b[1;33m,\u001b[0m\u001b[0my_test\u001b[0m\u001b[1;33m.\u001b[0m\u001b[0mshape\u001b[0m\u001b[1;33m[\u001b[0m\u001b[1;36m0\u001b[0m\u001b[1;33m]\u001b[0m\u001b[1;33m)\u001b[0m\u001b[1;33m\u001b[0m\u001b[1;33m\u001b[0m\u001b[0m\n\u001b[1;32m----> 2\u001b[1;33m \u001b[0my_pred\u001b[0m\u001b[1;33m=\u001b[0m\u001b[0mnumpy\u001b[0m\u001b[1;33m.\u001b[0m\u001b[0mconcatenate\u001b[0m\u001b[1;33m(\u001b[0m\u001b[0my_test_res\u001b[0m\u001b[1;33m,\u001b[0m\u001b[0maxis\u001b[0m\u001b[1;33m=\u001b[0m\u001b[1;36m0\u001b[0m\u001b[1;33m)\u001b[0m\u001b[1;33m\u001b[0m\u001b[1;33m\u001b[0m\u001b[0m\n\u001b[0m\u001b[0;32m      3\u001b[0m \u001b[0mprint\u001b[0m\u001b[1;33m(\u001b[0m\u001b[1;33m(\u001b[0m\u001b[0my_test\u001b[0m \u001b[1;33m==\u001b[0m \u001b[0my_pred\u001b[0m\u001b[1;33m)\u001b[0m\u001b[1;33m.\u001b[0m\u001b[0mmean\u001b[0m\u001b[1;33m(\u001b[0m\u001b[1;33m)\u001b[0m\u001b[1;33m)\u001b[0m\u001b[1;33m\u001b[0m\u001b[1;33m\u001b[0m\u001b[0m\n",
      "\u001b[1;31mNameError\u001b[0m: name 'numpy' is not defined"
     ]
    }
   ],
   "source": [
    "y_test_res=test_results(X_test_with_conv,k_means_filters,y_test,y_test.shape[0])"
   ]
  },
  {
   "cell_type": "code",
   "execution_count": 34,
   "metadata": {
    "id": "NPN6uln82ro5"
   },
   "outputs": [
    {
     "name": "stdout",
     "output_type": "stream",
     "text": [
      "0.906079365079365\n"
     ]
    }
   ],
   "source": [
    "y_pred=np.concatenate(y_test_res,axis=0)\n",
    "print((y_test == y_pred).mean())\n",
    "#niesamowite, tu faktycznie pomogło, tylko jakim kosztem?"
   ]
  },
  {
   "cell_type": "markdown",
   "metadata": {
    "id": "ckFgjHDD2ro6"
   },
   "source": [
    "teraz jako feature'y użyjemy odległość euklidesową od naszych filtrów"
   ]
  },
  {
   "cell_type": "code",
   "execution_count": 38,
   "metadata": {},
   "outputs": [],
   "source": [
    "def dist(x,y):\n",
    "  return np.sqrt((x - y).dot(x-y))\n",
    "  #return (x-y).dot(x-y)\n",
    "    \n",
    "def create_patch_features(X):    \n",
    "    X_mapped_list_per_image = []\n",
    "    for i in range(X.shape[0]):\n",
    "      if i % 1000 == 0:\n",
    "        print(i,\"/\", X.shape[0])\n",
    "        \n",
    "      mapped_features = []\n",
    "      for r in range(0, 28-PATCH_SIZE+1, STRIDE):\n",
    "        for c in range(0, 28-PATCH_SIZE+1, STRIDE):\n",
    "          patch = X[i].reshape(28,28)[c:(c+PATCH_SIZE),r:(r+PATCH_SIZE)].flatten()\n",
    "          #patch_norm = normalize_patch(patch, eps=0.01)\n",
    "          mapped_features.append([dist(patch, f) for f in filters_final])\n",
    "      X_mapped_list_per_image.append(np.vstack(mapped_features))\n",
    "    X_mapped = np.asarray(X_mapped_list_per_image).reshape(-1, ((32-PATCH_SIZE)//STRIDE+1)**2*filters_final.shape[0])\n",
    "    return X_mapped"
   ]
  },
  {
   "cell_type": "code",
   "execution_count": 35,
   "metadata": {},
   "outputs": [],
   "source": [
    "from sklearn.feature_extraction import image\n",
    "from sklearn.metrics import pairwise_distances\n",
    "from sklearn.metrics.pairwise import euclidean_distances\n",
    "\n",
    "def create_patch_features__vectorized(X):    \n",
    "    X_mapped_list_per_image = []\n",
    "    for i in range(X.shape[0]):\n",
    "        if i % 1000 == 0:\n",
    "            print(i,\"/\", X.shape[0])\n",
    "        patches = image.extract_patches_2d(X[i], (PATCH_SIZE, PATCH_SIZE))\n",
    "        strided_patches = patches.reshape( 28-PATCH_SIZE+1 , 28-PATCH_SIZE+1, PATCH_SIZE, PATCH_SIZE)[::STRIDE,::STRIDE,:,:]\n",
    "        strided_patches = strided_patches.reshape(((28-PATCH_SIZE)//STRIDE+1)**2, PATCH_SIZE * PATCH_SIZE)\n",
    "        mapped_features = euclidean_distances(np.asarray([patch for patch in strided_patches]), filters_final)\n",
    "        X_mapped_list_per_image.append(mapped_features.reshape(((28-PATCH_SIZE)//STRIDE+1)**2 * filters_final.shape[0]))\n",
    "    X_mapped = np.asarray(X_mapped_list_per_image)\n",
    "    return X_mapped"
   ]
  },
  {
   "cell_type": "code",
   "execution_count": 39,
   "metadata": {},
   "outputs": [
    {
     "name": "stdout",
     "output_type": "stream",
     "text": [
      "0 / 7000\n",
      "1000 / 7000\n",
      "2000 / 7000\n",
      "3000 / 7000\n",
      "4000 / 7000\n",
      "5000 / 7000\n",
      "6000 / 7000\n"
     ]
    }
   ],
   "source": [
    "X_mapped_train = create_patch_features(X_train)"
   ]
  },
  {
   "cell_type": "code",
   "execution_count": 43,
   "metadata": {},
   "outputs": [
    {
     "name": "stdout",
     "output_type": "stream",
     "text": [
      "(7000, 1024)\n",
      "(63000, 1024)\n"
     ]
    }
   ],
   "source": [
    "#X_mapped_train = create_patch_features__vectorized(X_train)\n",
    "print(X_mapped_train.shape)\n",
    "print(X_mapped_test.shape)"
   ]
  },
  {
   "cell_type": "code",
   "execution_count": 41,
   "metadata": {},
   "outputs": [
    {
     "name": "stdout",
     "output_type": "stream",
     "text": [
      "0 / 63000\n",
      "1000 / 63000\n",
      "2000 / 63000\n",
      "3000 / 63000\n",
      "4000 / 63000\n",
      "5000 / 63000\n",
      "6000 / 63000\n",
      "7000 / 63000\n",
      "8000 / 63000\n",
      "9000 / 63000\n",
      "10000 / 63000\n",
      "11000 / 63000\n",
      "12000 / 63000\n",
      "13000 / 63000\n",
      "14000 / 63000\n",
      "15000 / 63000\n",
      "16000 / 63000\n",
      "17000 / 63000\n",
      "18000 / 63000\n",
      "19000 / 63000\n",
      "20000 / 63000\n",
      "21000 / 63000\n",
      "22000 / 63000\n",
      "23000 / 63000\n",
      "24000 / 63000\n",
      "25000 / 63000\n",
      "26000 / 63000\n",
      "27000 / 63000\n",
      "28000 / 63000\n",
      "29000 / 63000\n",
      "30000 / 63000\n",
      "31000 / 63000\n",
      "32000 / 63000\n",
      "33000 / 63000\n",
      "34000 / 63000\n",
      "35000 / 63000\n",
      "36000 / 63000\n",
      "37000 / 63000\n",
      "38000 / 63000\n",
      "39000 / 63000\n",
      "40000 / 63000\n",
      "41000 / 63000\n",
      "42000 / 63000\n",
      "43000 / 63000\n",
      "44000 / 63000\n",
      "45000 / 63000\n",
      "46000 / 63000\n",
      "47000 / 63000\n",
      "48000 / 63000\n",
      "49000 / 63000\n",
      "50000 / 63000\n",
      "51000 / 63000\n",
      "52000 / 63000\n",
      "53000 / 63000\n",
      "54000 / 63000\n",
      "55000 / 63000\n",
      "56000 / 63000\n",
      "57000 / 63000\n",
      "58000 / 63000\n",
      "59000 / 63000\n",
      "60000 / 63000\n",
      "61000 / 63000\n",
      "62000 / 63000\n"
     ]
    }
   ],
   "source": [
    "X_mapped_train.shape\n",
    "X_mapped_test=create_patch_features(X_test)"
   ]
  },
  {
   "cell_type": "code",
   "execution_count": 44,
   "metadata": {},
   "outputs": [
    {
     "name": "stderr",
     "output_type": "stream",
     "text": [
      "[Parallel(n_jobs=10)]: Using backend LokyBackend with 10 concurrent workers.\n",
      "[Parallel(n_jobs=10)]: Done   1 out of   1 | elapsed:    7.9s finished\n"
     ]
    }
   ],
   "source": [
    "clf_mapped = LogisticRegression(random_state=0, max_iter=100, n_jobs=10, verbose=True).fit(X_mapped_train, y_train)"
   ]
  },
  {
   "cell_type": "code",
   "execution_count": 45,
   "metadata": {},
   "outputs": [
    {
     "name": "stdout",
     "output_type": "stream",
     "text": [
      "(63000, 1024)\n",
      "0.9038730158730158\n"
     ]
    }
   ],
   "source": [
    "print(X_mapped_test.shape)\n",
    "y_pred = clf_mapped.predict(X_mapped_test)\n",
    "print((y_test == y_pred).mean())"
   ]
  },
  {
   "cell_type": "code",
   "execution_count": null,
   "metadata": {},
   "outputs": [],
   "source": [
    "#prawie taki sam wynik !"
   ]
  }
 ],
 "metadata": {
  "@webio": {
   "lastCommId": null,
   "lastKernelId": null
  },
  "colab": {
   "provenance": []
  },
  "kernelspec": {
   "display_name": "Python 3",
   "language": "python",
   "name": "python3"
  },
  "language_info": {
   "codemirror_mode": {
    "name": "ipython",
    "version": 3
   },
   "file_extension": ".py",
   "mimetype": "text/x-python",
   "name": "python",
   "nbconvert_exporter": "python",
   "pygments_lexer": "ipython3",
   "version": "3.8.8"
  }
 },
 "nbformat": 4,
 "nbformat_minor": 1
}
