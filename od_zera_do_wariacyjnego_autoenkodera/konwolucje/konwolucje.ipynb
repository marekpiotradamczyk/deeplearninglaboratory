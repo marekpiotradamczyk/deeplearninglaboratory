{
 "cells": [
  {
   "cell_type": "markdown",
   "metadata": {
    "id": "ExAPwTcp2roi"
   },
   "source": [
    "# Konwolucje\n",
    "\n",
    "Dzięki uniwersalnemu twierdzeniu o aproksymacji dla sieci neuronowych, wiemy że sieci neuronowe składające się z warstw w pełni połączonych (perceptronów) może przybliżać dowolną funkcję ciągłą. Twierdzenie to nie daje nam sposobu na skontruowanie sieci neuronewej mogącej osiągnąć to zadanie w praktyce. Kedy dane wejściowe są obrazem, możemy skorzystać z pewnych założeń o tym jak powinna zachowywać się sieć neuronowa będąca w stanie rozpoznać obiekty znajdujące się na nim. Pomogą nam one znacznie ograniczyć ilość parametrów potrzebnych do jego przetworzenia, oraz uproszczą znacznie przestrzeń przeszukiwań dla Gradient Descentu.\n",
    "W tym notatniku skupimy się na zadaniu klasyfikacji obrazków cyfr z MNISTA - zbioru czarno białych obrazków 32x32 przedstawiających ręcznie pisane cyfry.\n",
    "\n",
    "[comment]: # (Tu fajnie byłoby przywołać MLP uczące się MNISTA - liczba parametrów tego a takiej konwolucyjnej)\n",
    "\n"
   ]
  },
  {
   "cell_type": "code",
   "execution_count": 27,
   "metadata": {
    "colab": {
     "base_uri": "https://localhost:8080/"
    },
    "executionInfo": {
     "elapsed": 89321,
     "status": "ok",
     "timestamp": 1713454756434,
     "user": {
      "displayName": "Mikołaj Hasik",
      "userId": "07053224988097047411"
     },
     "user_tz": -120
    },
    "id": "T3T3IkOE2rol",
    "outputId": "d6cb0c09-c831-40d9-bcf3-191d34347880"
   },
   "outputs": [
    {
     "name": "stdout",
     "output_type": "stream",
     "text": [
      "X_train shape: (7000, 784)\n",
      "y_train shape: (7000,)\n",
      "X_test shape: (63000, 784)\n",
      "y_test shape: (63000,)\n"
     ]
    }
   ],
   "source": [
    "#ładujemy dataset\n",
    "import numpy as np\n",
    "import matplotlib.pyplot as plt\n",
    "from sklearn import datasets\n",
    "from sklearn.model_selection import train_test_split\n",
    "\n",
    "mnist = datasets.fetch_openml('mnist_784', version=1)\n",
    "X, y = mnist.data.to_numpy(), mnist.target.astype(int)\n",
    "\n",
    "# Split data into training and testing sets\n",
    "X_train, X_test, y_train, y_test = train_test_split(X, y, test_size=0.9, random_state=42)\n",
    "\n",
    "# Output the shapes of the resulting datasets\n",
    "print(\"X_train shape:\", X_train.shape)\n",
    "print(\"y_train shape:\", y_train.shape)\n",
    "print(\"X_test shape:\", X_test.shape)\n",
    "print(\"y_test shape:\", y_test.shape)"
   ]
  },
  {
   "cell_type": "code",
   "execution_count": 28,
   "metadata": {
    "colab": {
     "base_uri": "https://localhost:8080/",
     "height": 135
    },
    "executionInfo": {
     "elapsed": 573,
     "status": "ok",
     "timestamp": 1713454757002,
     "user": {
      "displayName": "Mikołaj Hasik",
      "userId": "07053224988097047411"
     },
     "user_tz": -120
    },
    "id": "PPStwffH2roo",
    "outputId": "fb6ca21a-773e-43bd-ee09-961f8ed346d8"
   },
   "outputs": [
    {
     "data": {
      "image/png": "[encoded data removed]",
      "text/plain": [
       "<Figure size 1500x150 with 10 Axes>"
      ]
     },
     "metadata": {},
     "output_type": "display_data"
    }
   ],
   "source": [
    "examples = {}\n",
    "\n",
    "# Szukamy wystąpienia każdej z cyfr\n",
    "for i in range(10):\n",
    "    idx = np.where(y_train == i)[0][0]  # Get the index of the first occurrence of the number i\n",
    "    examples[i] = X_train[idx].reshape(28, 28)\n",
    "\n",
    "# Zobaczmy jak wyglądają sample z każdej z cyfr\n",
    "fig, axs = plt.subplots(1, 10, figsize=(15, 1.5))\n",
    "\n",
    "for i in range(10):\n",
    "    axs[i].imshow(examples[i], cmap='gray')\n",
    "    axs[i].axis('off')\n",
    "\n",
    "plt.show()\n",
    "\n",
    "plt.show()"
   ]
  },
  {
   "cell_type": "markdown",
   "metadata": {
    "id": "GBqH3GWa2rop"
   },
   "source": [
    "Po pierwsze - jedynka pozostaje jedynką, niezależnie od tego czy znajduje się przy prawej czy lewej krawędzi obrazka - zatem chcemy aby wartość wyniku dla danego piksela była niezmiennicza na przesunięcia.\n",
    "Po drugie - chcemy aby wpływ na wynik miało jedynie pewne otoczenie danego piksela - dla obrazków tak małych jak w MNIST może i nie ma to większego znaczenia - ale znów kot pozostaje kotem niezależnie od tego co znajduje się na reszcie zdjęcia.\n",
    "[Okazuje się że te dwa warunki wystarczają aby ze standardowej w pełni połączonej warstwy otrzymać warstwę konowlucyjną](http://d2l.ai/chapter_convolutional-neural-networks/why-conv.html#)\n",
    "\n",
    "\n"
   ]
  },
  {
   "cell_type": "markdown",
   "metadata": {
    "id": "xuycdp_72roq"
   },
   "source": [
    "## Co to konwolucja?\n",
    "\n",
    "W pracy z obrazami korzystamy z 2-wymiarowych splotów, aby sąsadujące ze sobą piksele były\n",
    "Najłatwiej zrozumieć działanie splotu przez obrazek poniżej. W trakcie obliczania macierz filtru (kernel) przesuwa się po pozycjach na których całość filtra mieści się w ramach obrazka, oraz w każdym miejscu mnoży punktowo wartości w swoich komórkach z odpowiadającymi im wartościami pikseli na obrazku i sumuje wynik.\n",
    "\n",
    "![zdj1](img/iclh-diagram-convolutional-neural-networks.png)\n",
    "\n",
    "Jeśli obrazek ma wymiary $n\\times n$, a filtr $k\\times k$, wynik będzie miał wymiar $(n-k+1)\\times (n-k+1)$ ponieważ jest $n-k+1$ różnych sposobów na umieszczenie odcinka długości $k$ na odcinku długości $n$. Jeżeli chcemy, aby wymiary wyniku były równe wymiarom wejścia, możemy dodać padding - otoczyć obrazek odpowiednią ilością zer. Zobaczmy teraz implementacjię konwolucji w pythonie.\n",
    "\n",
    "![gif1](img/kernel_vis.gif)"
   ]
  },
  {
   "cell_type": "code",
   "execution_count": 29,
   "metadata": {
    "executionInfo": {
     "elapsed": 19,
     "status": "ok",
     "timestamp": 1713454757004,
     "user": {
      "displayName": "Mikołaj Hasik",
      "userId": "07053224988097047411"
     },
     "user_tz": -120
    },
    "id": "_R2tYk-92ror"
   },
   "outputs": [],
   "source": [
    "def convolve(img, kernel):\n",
    "    image_height, image_width = img.shape\n",
    "    filter_height, filter_width = kernel.shape\n",
    "    #rozmiar wyjścia - ponieważ mnożymy tylko miejsca w których  kernel w pełni przecina się z obrazkiem\n",
    "    output_height = image_height - filter_height + 1\n",
    "    output_width = image_width - filter_width + 1\n",
    "    output = np.zeros((output_height, output_width))\n",
    "    for i in range(output_height):\n",
    "        for j in range(output_width):\n",
    "            #mnożymy punktowo kolejne legalne fragmenty obrazka przez nasz filtr (kernel) i sumujemy aby otrzymać wynik w miejscu (i,j)\n",
    "            output[i, j] = np.sum(img[i:i+filter_height, j:j+filter_width] * kernel)\n",
    "    return output"
   ]
  },
  {
   "cell_type": "markdown",
   "metadata": {
    "id": "S4bPKJC72ros"
   },
   "source": [
    "Oto przykładowe filtry używane w przetwarzaniu obrazów"
   ]
  },
  {
   "cell_type": "code",
   "execution_count": 30,
   "metadata": {
    "executionInfo": {
     "elapsed": 17,
     "status": "ok",
     "timestamp": 1713454757005,
     "user": {
      "displayName": "Mikołaj Hasik",
      "userId": "07053224988097047411"
     },
     "user_tz": -120
    },
    "id": "cBF4DzxP2ros"
   },
   "outputs": [],
   "source": [
    "verical_edge= np.array([\n",
    "    [-1, 0, 1],\n",
    "    [-2, 0, 2],\n",
    "    [-1, 0, 1]\n",
    "])\n",
    "\n",
    "horizontal_edge=verical_edge.T\n",
    "\n",
    "sharpening = np.array([\n",
    "    [0, -1, 0],\n",
    "    [-1, 5, -1],\n",
    "    [0, -1, 0]\n",
    "])\n",
    "gaussian_blur = np.array([\n",
    "    [1, 2, 1],\n",
    "    [2, 4, 2],\n",
    "    [1, 2, 1]\n",
    "])\n",
    "\n",
    "diagonal_edge1=np.array([\n",
    " [2,  1,  0],\n",
    " [1,  0, -1],\n",
    " [0, -1, -2]])\n",
    "\n",
    "diagonal_edge2=np.array([\n",
    " [0,  1,  2],\n",
    " [-1,  0, 1],\n",
    " [-2, -1, 0]])\n",
    "\n",
    "OnlyCrop=np.array([\n",
    " [0,  0,  0],\n",
    " [0,  1, 0],\n",
    " [0, 0, 0]])"
   ]
  },
  {
   "cell_type": "code",
   "execution_count": 31,
   "metadata": {
    "colab": {
     "base_uri": "https://localhost:8080/",
     "height": 381
    },
    "executionInfo": {
     "elapsed": 2125,
     "status": "ok",
     "timestamp": 1713454759116,
     "user": {
      "displayName": "Mikołaj Hasik",
      "userId": "07053224988097047411"
     },
     "user_tz": -120
    },
    "id": "Vrsh3Wir2rou",
    "outputId": "6e89b0ec-602c-41f7-d006-5662e6322715"
   },
   "outputs": [
    {
     "data": {
      "image/png": "[encoded data removed]",
      "text/plain": [
       "<Figure size 1600x200 with 8 Axes>"
      ]
     },
     "metadata": {},
     "output_type": "display_data"
    },
    {
     "name": "stdout",
     "output_type": "stream",
     "text": [
      "(28, 28)\n",
      "(26, 26)\n"
     ]
    },
    {
     "data": {
      "image/png": "[encoded data removed]",
      "text/plain": [
       "<Figure size 800x100 with 8 Axes>"
      ]
     },
     "metadata": {},
     "output_type": "display_data"
    }
   ],
   "source": [
    "filters=[verical_edge,horizontal_edge,sharpening,diagonal_edge1,diagonal_edge2,OnlyCrop]\n",
    "\n",
    "# konwolucje obrazka z naszymi filtrami\n",
    "edges_detected = convolve(examples[0], verical_edge)\n",
    "vedges_detected = convolve(examples[0], horizontal_edge)\n",
    "sharpened_img= convolve(examples[0], sharpening)\n",
    "blured_img= convolve(examples[0], gaussian_blur)\n",
    "d1edges=convolve(examples[0],diagonal_edge1)\n",
    "d2edges=convolve(examples[0],diagonal_edge2)\n",
    "cut=convolve(examples[0],OnlyCrop)\n",
    "\n",
    "#wyświetlamy obrazki\n",
    "plt.figure(figsize=(16, 2))\n",
    "plt.subplot(1, 8, 1)\n",
    "plt.imshow(examples[0], cmap='gray')\n",
    "plt.title('Oryginalny Obrazek')\n",
    "plt.subplot(1, 8, 2)\n",
    "plt.imshow(edges_detected, cmap='gray')\n",
    "plt.title('filtr sobela')\n",
    "plt.subplot(1, 8, 3)\n",
    "plt.imshow(vedges_detected, cmap='gray')\n",
    "plt.title('filtr pionowy')\n",
    "plt.subplot(1, 8, 4)\n",
    "plt.imshow(sharpened_img, cmap='gray')\n",
    "plt.title('filtr sharpen')\n",
    "plt.subplot(1, 8, 5)\n",
    "plt.imshow(blured_img, cmap='gray')\n",
    "plt.title('filtr blur')\n",
    "plt.subplot(1, 8, 6)\n",
    "plt.imshow(d1edges, cmap='gray')\n",
    "plt.title('przekątna 1')\n",
    "plt.subplot(1, 8, 7)\n",
    "plt.imshow(d2edges, cmap='gray')\n",
    "plt.title('przekątna 2')\n",
    "plt.subplot(1, 8, 8)\n",
    "plt.imshow(cut, cmap='gray')\n",
    "plt.title('obcięcie')\n",
    "plt.show()\n",
    "print(examples[0].shape)\n",
    "print(cut.shape)\n",
    "\n",
    "\n",
    "#wyświetlamy filtry\n",
    "plt.figure(figsize=(8, 1))\n",
    "plt.subplot(1, 8, 1)\n",
    "plt.imshow(verical_edge, cmap='gray')\n",
    "plt.title('Oryginalny Obrazek')\n",
    "plt.subplot(1, 8, 2)\n",
    "plt.imshow(horizontal_edge, cmap='gray')\n",
    "plt.title('filtr sobela')\n",
    "plt.subplot(1, 8, 3)\n",
    "plt.imshow(sharpening, cmap='gray')\n",
    "plt.title('filtr pionowy')\n",
    "plt.subplot(1, 8, 4)\n",
    "plt.imshow(gaussian_blur, cmap='gray')\n",
    "plt.title('filtr sharpen')\n",
    "plt.subplot(1, 8, 5)\n",
    "plt.imshow(diagonal_edge1, cmap='gray')\n",
    "plt.title('filtr blur')\n",
    "plt.subplot(1, 8, 6)\n",
    "plt.imshow(diagonal_edge2, cmap='gray')\n",
    "plt.title('przekątna 1')\n",
    "plt.subplot(1, 8, 7)\n",
    "plt.imshow(OnlyCrop, cmap='gray')\n",
    "plt.title('przekątna 2')\n",
    "plt.subplot(1, 8, 8)\n",
    "plt.imshow(cut, cmap='gray')\n",
    "plt.title('obcięcie')\n",
    "plt.show()"
   ]
  },
  {
   "cell_type": "code",
   "execution_count": 32,
   "metadata": {
    "id": "C0MV6HlV2rov"
   },
   "outputs": [],
   "source": [
    "#tu o paddingu"
   ]
  },
  {
   "cell_type": "markdown",
   "metadata": {
    "id": "_kyCFf9_2rov"
   },
   "source": []
  },
  {
   "cell_type": "markdown",
   "metadata": {
    "id": "HkWpz9Ih2rov"
   },
   "source": [
    "# Filtry dają feature'y\n",
    "Spróbujemy teraz sklasyfikować odpowienio cyfry za pomocą regresji logistycznej."
   ]
  },
  {
   "cell_type": "code",
   "execution_count": 33,
   "metadata": {
    "colab": {
     "base_uri": "https://localhost:8080/"
    },
    "executionInfo": {
     "elapsed": 6644,
     "status": "ok",
     "timestamp": 1713454765750,
     "user": {
      "displayName": "Mikołaj Hasik",
      "userId": "07053224988097047411"
     },
     "user_tz": -120
    },
    "id": "k8y_cITa2row",
    "outputId": "c928978b-b3fb-4f58-f5a1-da07c0118ed1"
   },
   "outputs": [
    {
     "name": "stderr",
     "output_type": "stream",
     "text": [
      "[Parallel(n_jobs=6)]: Using backend LokyBackend with 6 concurrent workers.\n"
     ]
    },
    {
     "name": "stdout",
     "output_type": "stream",
     "text": [
      "RUNNING THE L-BFGS-B CODE\n",
      "\n",
      "           * * *\n",
      "\n",
      "Machine precision = 2.220D-16\n",
      " N =         7850     M =           10\n",
      "\n",
      "At X0         0 variables are exactly at the bounds\n",
      "\n",
      "At iterate    0    f=  2.30259D+00    |proj g|=  1.74589D+01\n"
     ]
    },
    {
     "name": "stderr",
     "output_type": "stream",
     "text": [
      " This problem is unconstrained.\n"
     ]
    },
    {
     "name": "stdout",
     "output_type": "stream",
     "text": [
      "\n",
      "At iterate   50    f=  1.20393D-01    |proj g|=  5.02066D-01\n",
      "\n",
      "At iterate  100    f=  1.42486D-02    |proj g|=  1.36395D-01\n",
      "\n",
      "           * * *\n",
      "\n",
      "Tit   = total number of iterations\n",
      "Tnf   = total number of function evaluations\n",
      "Tnint = total number of segments explored during Cauchy searches\n",
      "Skip  = number of BFGS updates skipped\n",
      "Nact  = number of active bounds at final generalized Cauchy point\n",
      "Projg = norm of the final projected gradient\n",
      "F     = final function value\n",
      "\n",
      "           * * *\n",
      "\n",
      "   N    Tit     Tnf  Tnint  Skip  Nact     Projg        F\n",
      " 7850    100    109      1     0     0   1.364D-01   1.425D-02\n",
      "  F =   1.4248577169883649E-002\n",
      "\n",
      "STOP: TOTAL NO. of ITERATIONS REACHED LIMIT                 \n"
     ]
    },
    {
     "name": "stderr",
     "output_type": "stream",
     "text": [
      "/home/mm/.local/lib/python3.10/site-packages/sklearn/linear_model/_logistic.py:469: ConvergenceWarning: lbfgs failed to converge (status=1):\n",
      "STOP: TOTAL NO. of ITERATIONS REACHED LIMIT.\n",
      "\n",
      "Increase the number of iterations (max_iter) or scale the data as shown in:\n",
      "    https://scikit-learn.org/stable/modules/preprocessing.html\n",
      "Please also refer to the documentation for alternative solver options:\n",
      "    https://scikit-learn.org/stable/modules/linear_model.html#logistic-regression\n",
      "  n_iter_i = _check_optimize_result(\n"
     ]
    }
   ],
   "source": [
    "from sklearn.linear_model import LogisticRegression\n",
    "\n",
    "clf_simple = LogisticRegression(random_state=0, max_iter=100, verbose=True, n_jobs=6).fit(X_train, y_train)"
   ]
  },
  {
   "cell_type": "markdown",
   "metadata": {
    "id": "f-97obpy2rox"
   },
   "source": [
    "Jak widać, ponieważ MNIST jest łatwym datasetem, sama regresja osiąga dobry wynik. Ale możemy lepiej!"
   ]
  },
  {
   "cell_type": "code",
   "execution_count": 34,
   "metadata": {
    "id": "dP4XQqOs2rox",
    "outputId": "59c9980d-228d-4606-cda3-65cfcdeea9eb"
   },
   "outputs": [
    {
     "name": "stdout",
     "output_type": "stream",
     "text": [
      "0.8690634920634921\n"
     ]
    }
   ],
   "source": [
    "y_pred = clf_simple.predict(X_test)\n",
    "print((y_test == y_pred).mean())"
   ]
  },
  {
   "cell_type": "markdown",
   "metadata": {
    "id": "3GtAr3sm2rox"
   },
   "source": [
    "# Filtry jako feature'y\n",
    "Użyjemy teraz filtrów z wcześniejszego przykładu, aby wyciągnąć więcej informacji o strukturze naszych danych, dzięki czemu uzyskamy lepszy wynik"
   ]
  },
  {
   "cell_type": "code",
   "execution_count": 35,
   "metadata": {
    "colab": {
     "base_uri": "https://localhost:8080/"
    },
    "executionInfo": {
     "elapsed": 281,
     "status": "ok",
     "timestamp": 1713454786689,
     "user": {
      "displayName": "Mikołaj Hasik",
      "userId": "07053224988097047411"
     },
     "user_tz": -120
    },
    "id": "HUFtmOCL2rox",
    "outputId": "1900e3af-69b9-4f76-8b86-557193a069dc"
   },
   "outputs": [
    {
     "name": "stdout",
     "output_type": "stream",
     "text": [
      "(7000, 28, 28)\n"
     ]
    }
   ],
   "source": [
    "X_train_with_conv=X_train.reshape(-1,28, 28)\n",
    "X_test_with_conv=X_test.reshape(-1,28, 28)\n",
    "print(X_train_with_conv.shape)\n",
    "\n"
   ]
  },
  {
   "cell_type": "code",
   "execution_count": 36,
   "metadata": {
    "id": "JDwLFeJm2roy",
    "outputId": "81093132-455b-4207-ebf0-90c3b28dbd89"
   },
   "outputs": [
    {
     "name": "stdout",
     "output_type": "stream",
     "text": [
      "Shape of filtered images: (7000, 26, 26, 6)\n"
     ]
    }
   ],
   "source": [
    "from scipy.signal import convolve2d\n",
    "\n",
    "def apply_filters(X_train, filters):\n",
    "    num_samples, height, width = X_train.shape\n",
    "    num_filters = len(filters)\n",
    "    output = np.zeros((num_samples, height - filters[0].shape[0] + 1, width - filters[0].shape[1] + 1, num_filters))\n",
    "\n",
    "    for i in range(num_samples):\n",
    "        for j, kernel in enumerate(filters):\n",
    "            #można uruchomić to z naszą funkcją convolve, ale wbudowana funkcja będzie znacznie szybsza od działania na pythonowych tablicach\n",
    "            #output[i, :, :, j] = convolve(X_train[i], kernel)\n",
    "            output[i, :, :, j] = convolve2d(X_train[i], kernel, mode='valid')\n",
    "\n",
    "    return output\n",
    "\n",
    "# Apply filters to X_train\n",
    "filtered_images = apply_filters(X_train_with_conv, filters)\n",
    "\n",
    "# Output the shape of the filtered images array\n",
    "print(\"Shape of filtered images:\", filtered_images.shape)"
   ]
  },
  {
   "cell_type": "code",
   "execution_count": 37,
   "metadata": {
    "id": "n6X5ico52roz",
    "outputId": "51437bab-8c1e-4715-a68e-05e3db3ede70"
   },
   "outputs": [
    {
     "name": "stderr",
     "output_type": "stream",
     "text": [
      "[Parallel(n_jobs=6)]: Using backend LokyBackend with 6 concurrent workers.\n"
     ]
    },
    {
     "name": "stdout",
     "output_type": "stream",
     "text": [
      "RUNNING THE L-BFGS-B CODE\n",
      "\n",
      "           * * *\n",
      "\n",
      "Machine precision = 2.220D-16\n",
      " N =        40570     M =           10\n",
      "\n",
      "At X0         0 variables are exactly at the bounds\n",
      "\n",
      "At iterate    0    f=  2.30259D+00    |proj g|=  8.84379D+01\n"
     ]
    },
    {
     "name": "stderr",
     "output_type": "stream",
     "text": [
      " This problem is unconstrained.\n"
     ]
    },
    {
     "name": "stdout",
     "output_type": "stream",
     "text": [
      "\n",
      "At iterate   50    f=  1.76886D-02    |proj g|=  3.17185D-01\n",
      "\n",
      "           * * *\n",
      "\n",
      "Tit   = total number of iterations\n",
      "Tnf   = total number of function evaluations\n",
      "Tnint = total number of segments explored during Cauchy searches\n",
      "Skip  = number of BFGS updates skipped\n",
      "Nact  = number of active bounds at final generalized Cauchy point\n",
      "Projg = norm of the final projected gradient\n",
      "F     = final function value\n",
      "\n",
      "           * * *\n",
      "\n",
      "   N    Tit     Tnf  Tnint  Skip  Nact     Projg        F\n",
      "40570     83     89      1     0     0   7.900D-05   1.390D-05\n",
      "  F =   1.3902617021144385E-005\n",
      "\n",
      "CONVERGENCE: NORM_OF_PROJECTED_GRADIENT_<=_PGTOL            \n"
     ]
    }
   ],
   "source": [
    "X_filtered=filtered_images.reshape(-1,26*26*len(filters))\n",
    "clf_with_conv = LogisticRegression(random_state=0, max_iter=100, verbose=True, n_jobs=6).fit(X_filtered, y_train)\n"
   ]
  },
  {
   "cell_type": "code",
   "execution_count": 38,
   "metadata": {
    "id": "MBdAKiRh2roz",
    "outputId": "9db162d1-9f0b-4cff-f5f9-d01201b00415"
   },
   "outputs": [],
   "source": [
    "Test_filtered=apply_filters(X_test_with_conv,filters)\n"
   ]
  },
  {
   "cell_type": "code",
   "execution_count": 39,
   "metadata": {
    "id": "KrvUqxpU2ro0",
    "outputId": "5858ce57-181d-4786-cde5-78a5658c2726"
   },
   "outputs": [
    {
     "name": "stdout",
     "output_type": "stream",
     "text": [
      "(63000, 26, 26, 6)\n",
      "0.8594285714285714\n"
     ]
    }
   ],
   "source": [
    "print(Test_filtered.shape)\n",
    "y_pred = clf_with_conv.predict(Test_filtered.reshape(-1,26*26*len(filters)))\n",
    "print((y_test == y_pred).mean())"
   ]
  },
  {
   "cell_type": "markdown",
   "metadata": {
    "id": "X-DJUvXe2ro1"
   },
   "source": [
    "Jak widać, wyciągnięcie feature'ów za pomocą naszych filtrów pomogło w wytrenowaniu regresji. Zauważmy że to co zaimplementowaliśmy jest w zasadzie siecią neuronową z jedną warstwą konwolucyjną, aktywacją f(x)=x oraz warstwą w pełni połączoną; z tym, że trenowaliśmy jedynie warstwę w pełni połączoną, a filtry wybraliśmy ręcznie. Przejdźmy więc do do kilkuwarstwowej sieci konwolucyjnej, która będzie uczyć się wartości filtrów podobnie jak warstwy połączonej"
   ]
  },
  {
   "cell_type": "markdown",
   "metadata": {
    "id": "qHO4ePc92ro2"
   },
   "source": [
    "# Sieć neuronowa konwolucyjna dla mnista"
   ]
  },
  {
   "cell_type": "markdown",
   "metadata": {
    "id": "S5xWqHOW2ro3"
   },
   "source": [
    "# Inny sposób na wyciąganie feature'ów\n",
    "teraz na mniscie to samo co na konkursie z patchami z kmeansow"
   ]
  },
  {
   "cell_type": "code",
   "execution_count": 40,
   "metadata": {
    "colab": {
     "base_uri": "https://localhost:8080/"
    },
    "executionInfo": {
     "elapsed": 345,
     "status": "ok",
     "timestamp": 1713454792992,
     "user": {
      "displayName": "Mikołaj Hasik",
      "userId": "07053224988097047411"
     },
     "user_tz": -120
    },
    "id": "y_Aq5sD22ro3",
    "outputId": "415cc09f-870e-4470-8dca-fe10a47d535c"
   },
   "outputs": [
    {
     "name": "stdout",
     "output_type": "stream",
     "text": [
      "(28072, 49)\n"
     ]
    }
   ],
   "source": [
    "PATCH_SIZE = 7\n",
    "STRIDE = 7\n",
    "patch_num = 7000*4\n",
    "patches = []\n",
    "\n",
    "for i in range(patch_num):\n",
    "  for r in range(28-PATCH_SIZE+1):\n",
    "    for c in range(28-PATCH_SIZE+1):\n",
    "      patch = X_train_with_conv[i][c:(c+PATCH_SIZE),r:(r+PATCH_SIZE)]\n",
    "      #print(patch.shape)\n",
    "      #patch_norm = normalize_patch(patch, eps=10)\n",
    "      patches.append(patch.flatten())\n",
    "  if len(patches) >= patch_num:\n",
    "    break\n",
    "\n",
    "P = np.vstack(patches)\n",
    "print(P.shape)"
   ]
  },
  {
   "cell_type": "code",
   "execution_count": 41,
   "metadata": {
    "colab": {
     "base_uri": "https://localhost:8080/"
    },
    "executionInfo": {
     "elapsed": 944,
     "status": "ok",
     "timestamp": 1713454798739,
     "user": {
      "displayName": "Mikołaj Hasik",
      "userId": "07053224988097047411"
     },
     "user_tz": -120
    },
    "id": "zirQ73So2ro5",
    "outputId": "e214d300-a54a-4abd-8954-0b90ed551d78"
   },
   "outputs": [
    {
     "name": "stdout",
     "output_type": "stream",
     "text": [
      "Init 1/1 with method k-means++\n",
      "Inertia for init 1/1: 3222847988.0\n",
      "[MiniBatchKMeans] Reassigning 1 cluster centers.\n",
      "Minibatch step 1/802: mean batch inertia: 152924.59242857143\n",
      "Minibatch step 2/802: mean batch inertia: 117755.14879414039, ewa inertia: 117755.14879414039\n",
      "Minibatch step 3/802: mean batch inertia: 115758.3635159071, ewa inertia: 116759.35233863987\n",
      "Minibatch step 4/802: mean batch inertia: 112847.07700428859, ewa inertia: 114808.30134013889\n",
      "Minibatch step 5/802: mean batch inertia: 113260.33489212801, ewa inertia: 114036.33075373372\n",
      "Minibatch step 6/802: mean batch inertia: 111113.20551915157, ewa inertia: 112578.56873028948\n",
      "Minibatch step 7/802: mean batch inertia: 112921.3102005528, ewa inertia: 112749.49383924423\n",
      "Minibatch step 8/802: mean batch inertia: 115782.2816862975, ewa inertia: 114261.9445876055\n",
      "Minibatch step 9/802: mean batch inertia: 111002.20644463362, ewa inertia: 112636.3137678995\n",
      "Minibatch step 10/802: mean batch inertia: 109365.3563947337, ewa inertia: 111005.08792013398\n",
      "Minibatch step 11/802: mean batch inertia: 112103.51383304228, ewa inertia: 111552.87272335117\n",
      "Minibatch step 12/802: mean batch inertia: 113890.33223333364, ewa inertia: 112718.56335633498\n",
      "Minibatch step 13/802: mean batch inertia: 111418.6178036142, ewa inertia: 112070.28074535322\n",
      "Minibatch step 14/802: mean batch inertia: 111559.48390684438, ewa inertia: 111815.54645478493\n",
      "Minibatch step 15/802: mean batch inertia: 111249.70622032028, ewa inertia: 111533.36203265315\n",
      "Minibatch step 16/802: mean batch inertia: 113264.09002859399, ewa inertia: 112396.47576980884\n",
      "Minibatch step 17/802: mean batch inertia: 111554.18010865903, ewa inertia: 111976.42307661261\n",
      "Minibatch step 18/802: mean batch inertia: 111394.10606828475, ewa inertia: 111686.02169034859\n",
      "Minibatch step 19/802: mean batch inertia: 113392.99800079351, ewa inertia: 112537.29046626242\n",
      "Minibatch step 20/802: mean batch inertia: 111136.86403759911, ewa inertia: 111838.8980607024\n",
      "Converged (lack of improvement in inertia) at step 20/802\n"
     ]
    },
    {
     "data": {
      "text/plain": [
       "(64, 49)"
      ]
     },
     "execution_count": 41,
     "metadata": {},
     "output_type": "execute_result"
    }
   ],
   "source": [
    "from sklearn.cluster import KMeans, MiniBatchKMeans\n",
    "import numpy as np\n",
    "k_root=8\n",
    "k=64 #trochę jak 32 filtry w 1 warstwie sieci\n",
    "kmeans = MiniBatchKMeans(n_clusters=k, random_state=0, verbose=True, n_init=1, max_iter=200, batch_size=7000).fit(P)\n",
    "kmeans.labels_\n",
    "kmeans.cluster_centers_\n",
    "filters_final = kmeans.cluster_centers_\n",
    "filters_final.shape\n"
   ]
  },
  {
   "cell_type": "code",
   "execution_count": 42,
   "metadata": {
    "colab": {
     "base_uri": "https://localhost:8080/",
     "height": 653
    },
    "executionInfo": {
     "elapsed": 2058,
     "status": "ok",
     "timestamp": 1713454803851,
     "user": {
      "displayName": "Mikołaj Hasik",
      "userId": "07053224988097047411"
     },
     "user_tz": -120
    },
    "id": "gFxKrPJd2ro5",
    "outputId": "8cf1f4d3-1115-40f6-cff4-5d9df44886b4"
   },
   "outputs": [
    {
     "data": {
      "image/png": "[encoded data removed]",
      "text/plain": [
       "<Figure size 800x800 with 64 Axes>"
      ]
     },
     "metadata": {},
     "output_type": "display_data"
    }
   ],
   "source": [
    "plt.figure(figsize=(k_root,k_root))\n",
    "for xx in range(k):\n",
    "    plt.subplot(k_root,k_root,xx+1)\n",
    "    plt.imshow((filters_final[xx]).reshape(PATCH_SIZE, PATCH_SIZE), cmap=plt.get_cmap('gray'))\n",
    "    plt.axis('off')\n"
   ]
  },
  {
   "cell_type": "code",
   "execution_count": 43,
   "metadata": {
    "colab": {
     "base_uri": "https://localhost:8080/"
    },
    "executionInfo": {
     "elapsed": 60048,
     "status": "ok",
     "timestamp": 1713454869214,
     "user": {
      "displayName": "Mikołaj Hasik",
      "userId": "07053224988097047411"
     },
     "user_tz": -120
    },
    "id": "C08mN-5e2ro5",
    "outputId": "9dc9687a-b8c9-4c82-96cf-e991dc995e08"
   },
   "outputs": [
    {
     "name": "stdout",
     "output_type": "stream",
     "text": [
      "Shape of filtered images: (7000, 22, 22, 64)\n"
     ]
    }
   ],
   "source": [
    "# użyjemy bibliotecznej implementacji konwolucji - jest szybsza\n",
    "from scipy.signal import convolve2d\n",
    "\n",
    "def apply_filters(X_train, filters):\n",
    "    num_samples, height, width = X_train.shape\n",
    "    num_filters = len(filters)\n",
    "    output = np.zeros((num_samples, height - filters[0].shape[0] + 1, width - filters[0].shape[1] + 1, num_filters))\n",
    "\n",
    "    for i in range(num_samples):\n",
    "        for j, kernel in enumerate(filters):\n",
    "            #można uruchomić to z naszą funkcją convolve, ale wbudowana funkcja będzie znacznie szybsza od działania na pythonowych tablicach\n",
    "            output[i, :, :, j] = convolve2d(X_train[i], kernel, mode='valid')\n",
    "\n",
    "    return output\n",
    "\n",
    "k_means_filters=filters_final.reshape(-1,7,7)\n",
    "# Apply filters to X_train\n",
    "filtered_k_means = apply_filters(X_train_with_conv, k_means_filters)\n",
    "\n",
    "# Output the shape of the filtered images array\n",
    "print(\"Shape of filtered images:\", filtered_k_means.shape)"
   ]
  },
  {
   "cell_type": "code",
   "execution_count": 44,
   "metadata": {},
   "outputs": [],
   "source": [
    "def test_results(inputs,filters,labels,data_size,batches=100):\n",
    "    batch_size=int(data_size/batches)\n",
    "    y_pred=[]\n",
    "    print(inputs.shape)\n",
    "    print(batch_size)\n",
    "    for i in range(batches):\n",
    "        filtered_batch=apply_filters(inputs[i*batch_size:(i+1)*batch_size,:,:],filters)\n",
    "        y_pred.append(clf_with_conv.predict(filtered_batch.reshape(-1,22*22*len(k_means_filters))))\n",
    "        print(f\"batch {i} done\")\n",
    "    return y_pred"
   ]
  },
  {
   "cell_type": "code",
   "execution_count": 45,
   "metadata": {
    "colab": {
     "base_uri": "https://localhost:8080/"
    },
    "executionInfo": {
     "elapsed": 132727,
     "status": "ok",
     "timestamp": 1713455007021,
     "user": {
      "displayName": "Mikołaj Hasik",
      "userId": "07053224988097047411"
     },
     "user_tz": -120
    },
    "id": "R12uSoCg2ro5",
    "outputId": "c9e156d0-d039-426c-b70e-61d488c1c408"
   },
   "outputs": [
    {
     "name": "stderr",
     "output_type": "stream",
     "text": [
      "[Parallel(n_jobs=6)]: Using backend LokyBackend with 6 concurrent workers.\n"
     ]
    },
    {
     "name": "stdout",
     "output_type": "stream",
     "text": [
      "RUNNING THE L-BFGS-B CODE\n",
      "\n",
      "           * * *\n",
      "\n",
      "Machine precision = 2.220D-16\n",
      " N =       309770     M =           10\n",
      "\n",
      "At X0         0 variables are exactly at the bounds\n",
      "\n",
      "At iterate    0    f=  2.30259D+00    |proj g|=  8.17246D+04\n"
     ]
    },
    {
     "name": "stderr",
     "output_type": "stream",
     "text": [
      " This problem is unconstrained.\n"
     ]
    },
    {
     "name": "stdout",
     "output_type": "stream",
     "text": [
      "\n",
      "At iterate   50    f=  2.71377D-01    |proj g|=  1.67334D+03\n",
      "\n",
      "At iterate  100    f=  2.25032D-01    |proj g|=  1.21389D+03\n",
      "\n",
      "           * * *\n",
      "\n",
      "Tit   = total number of iterations\n",
      "Tnf   = total number of function evaluations\n",
      "Tnint = total number of segments explored during Cauchy searches\n",
      "Skip  = number of BFGS updates skipped\n",
      "Nact  = number of active bounds at final generalized Cauchy point\n",
      "Projg = norm of the final projected gradient\n",
      "F     = final function value\n",
      "\n",
      "           * * *\n",
      "\n",
      "   N    Tit     Tnf  Tnint  Skip  Nact     Projg        F\n",
      "*****    100    113      1     0     0   1.214D+03   2.250D-01\n",
      "  F =  0.22503151518263120     \n",
      "\n",
      "STOP: TOTAL NO. of ITERATIONS REACHED LIMIT                 \n"
     ]
    },
    {
     "name": "stderr",
     "output_type": "stream",
     "text": [
      "/home/mm/.local/lib/python3.10/site-packages/sklearn/linear_model/_logistic.py:469: ConvergenceWarning: lbfgs failed to converge (status=1):\n",
      "STOP: TOTAL NO. of ITERATIONS REACHED LIMIT.\n",
      "\n",
      "Increase the number of iterations (max_iter) or scale the data as shown in:\n",
      "    https://scikit-learn.org/stable/modules/preprocessing.html\n",
      "Please also refer to the documentation for alternative solver options:\n",
      "    https://scikit-learn.org/stable/modules/linear_model.html#logistic-regression\n",
      "  n_iter_i = _check_optimize_result(\n"
     ]
    }
   ],
   "source": [
    "clf_with_conv = LogisticRegression(random_state=0, max_iter=100, verbose=True, n_jobs=6).fit(filtered_k_means.reshape(-1,22*22*len(k_means_filters)), y_train)\n"
   ]
  },
  {
   "cell_type": "code",
   "execution_count": 46,
   "metadata": {},
   "outputs": [
    {
     "name": "stdout",
     "output_type": "stream",
     "text": [
      "(63000, 28, 28)\n",
      "630\n"
     ]
    },
    {
     "name": "stdout",
     "output_type": "stream",
     "text": [
      "batch 0 done\n",
      "batch 1 done\n",
      "batch 2 done\n",
      "batch 3 done\n",
      "batch 4 done\n",
      "batch 5 done\n",
      "batch 6 done\n"
     ]
    },
    {
     "ename": "KeyboardInterrupt",
     "evalue": "",
     "output_type": "error",
     "traceback": [
      "\u001b[0;31m---------------------------------------------------------------------------\u001b[0m",
      "\u001b[0;31mKeyboardInterrupt\u001b[0m                         Traceback (most recent call last)",
      "Cell \u001b[0;32mIn[46], line 1\u001b[0m\n\u001b[0;32m----> 1\u001b[0m y_test_res\u001b[38;5;241m=\u001b[39m\u001b[43mtest_results\u001b[49m\u001b[43m(\u001b[49m\u001b[43mX_test_with_conv\u001b[49m\u001b[43m,\u001b[49m\u001b[43mk_means_filters\u001b[49m\u001b[43m,\u001b[49m\u001b[43my_test\u001b[49m\u001b[43m,\u001b[49m\u001b[43my_test\u001b[49m\u001b[38;5;241;43m.\u001b[39;49m\u001b[43mshape\u001b[49m\u001b[43m[\u001b[49m\u001b[38;5;241;43m0\u001b[39;49m\u001b[43m]\u001b[49m\u001b[43m)\u001b[49m\n",
      "Cell \u001b[0;32mIn[44], line 7\u001b[0m, in \u001b[0;36mtest_results\u001b[0;34m(inputs, filters, labels, data_size, batches)\u001b[0m\n\u001b[1;32m      5\u001b[0m \u001b[38;5;28mprint\u001b[39m(batch_size)\n\u001b[1;32m      6\u001b[0m \u001b[38;5;28;01mfor\u001b[39;00m i \u001b[38;5;129;01min\u001b[39;00m \u001b[38;5;28mrange\u001b[39m(batches):\n\u001b[0;32m----> 7\u001b[0m     filtered_batch\u001b[38;5;241m=\u001b[39m\u001b[43mapply_filters\u001b[49m\u001b[43m(\u001b[49m\u001b[43minputs\u001b[49m\u001b[43m[\u001b[49m\u001b[43mi\u001b[49m\u001b[38;5;241;43m*\u001b[39;49m\u001b[43mbatch_size\u001b[49m\u001b[43m:\u001b[49m\u001b[43m(\u001b[49m\u001b[43mi\u001b[49m\u001b[38;5;241;43m+\u001b[39;49m\u001b[38;5;241;43m1\u001b[39;49m\u001b[43m)\u001b[49m\u001b[38;5;241;43m*\u001b[39;49m\u001b[43mbatch_size\u001b[49m\u001b[43m,\u001b[49m\u001b[43m:\u001b[49m\u001b[43m,\u001b[49m\u001b[43m:\u001b[49m\u001b[43m]\u001b[49m\u001b[43m,\u001b[49m\u001b[43mfilters\u001b[49m\u001b[43m)\u001b[49m\n\u001b[1;32m      8\u001b[0m     y_pred\u001b[38;5;241m.\u001b[39mappend(clf_with_conv\u001b[38;5;241m.\u001b[39mpredict(filtered_batch\u001b[38;5;241m.\u001b[39mreshape(\u001b[38;5;241m-\u001b[39m\u001b[38;5;241m1\u001b[39m,\u001b[38;5;241m22\u001b[39m\u001b[38;5;241m*\u001b[39m\u001b[38;5;241m22\u001b[39m\u001b[38;5;241m*\u001b[39m\u001b[38;5;28mlen\u001b[39m(k_means_filters))))\n\u001b[1;32m      9\u001b[0m     \u001b[38;5;28mprint\u001b[39m(\u001b[38;5;124mf\u001b[39m\u001b[38;5;124m\"\u001b[39m\u001b[38;5;124mbatch \u001b[39m\u001b[38;5;132;01m{\u001b[39;00mi\u001b[38;5;132;01m}\u001b[39;00m\u001b[38;5;124m done\u001b[39m\u001b[38;5;124m\"\u001b[39m)\n",
      "Cell \u001b[0;32mIn[43], line 12\u001b[0m, in \u001b[0;36mapply_filters\u001b[0;34m(X_train, filters)\u001b[0m\n\u001b[1;32m      9\u001b[0m \u001b[38;5;28;01mfor\u001b[39;00m i \u001b[38;5;129;01min\u001b[39;00m \u001b[38;5;28mrange\u001b[39m(num_samples):\n\u001b[1;32m     10\u001b[0m     \u001b[38;5;28;01mfor\u001b[39;00m j, kernel \u001b[38;5;129;01min\u001b[39;00m \u001b[38;5;28menumerate\u001b[39m(filters):\n\u001b[1;32m     11\u001b[0m         \u001b[38;5;66;03m#można uruchomić to z naszą funkcją convolve, ale wbudowana funkcja będzie znacznie szybsza od działania na pythonowych tablicach\u001b[39;00m\n\u001b[0;32m---> 12\u001b[0m         output[i, :, :, j] \u001b[38;5;241m=\u001b[39m \u001b[43mconvolve2d\u001b[49m\u001b[43m(\u001b[49m\u001b[43mX_train\u001b[49m\u001b[43m[\u001b[49m\u001b[43mi\u001b[49m\u001b[43m]\u001b[49m\u001b[43m,\u001b[49m\u001b[43m \u001b[49m\u001b[43mkernel\u001b[49m\u001b[43m,\u001b[49m\u001b[43m \u001b[49m\u001b[43mmode\u001b[49m\u001b[38;5;241;43m=\u001b[39;49m\u001b[38;5;124;43m'\u001b[39;49m\u001b[38;5;124;43mvalid\u001b[39;49m\u001b[38;5;124;43m'\u001b[39;49m\u001b[43m)\u001b[49m\n\u001b[1;32m     14\u001b[0m \u001b[38;5;28;01mreturn\u001b[39;00m output\n",
      "File \u001b[0;32m~/.local/lib/python3.10/site-packages/scipy/signal/_signaltools.py:1752\u001b[0m, in \u001b[0;36mconvolve2d\u001b[0;34m(in1, in2, mode, boundary, fillvalue)\u001b[0m\n\u001b[1;32m   1750\u001b[0m val \u001b[38;5;241m=\u001b[39m _valfrommode(mode)\n\u001b[1;32m   1751\u001b[0m bval \u001b[38;5;241m=\u001b[39m _bvalfromboundary(boundary)\n\u001b[0;32m-> 1752\u001b[0m out \u001b[38;5;241m=\u001b[39m \u001b[43m_sigtools\u001b[49m\u001b[38;5;241;43m.\u001b[39;49m\u001b[43m_convolve2d\u001b[49m\u001b[43m(\u001b[49m\u001b[43min1\u001b[49m\u001b[43m,\u001b[49m\u001b[43m \u001b[49m\u001b[43min2\u001b[49m\u001b[43m,\u001b[49m\u001b[43m \u001b[49m\u001b[38;5;241;43m1\u001b[39;49m\u001b[43m,\u001b[49m\u001b[43m \u001b[49m\u001b[43mval\u001b[49m\u001b[43m,\u001b[49m\u001b[43m \u001b[49m\u001b[43mbval\u001b[49m\u001b[43m,\u001b[49m\u001b[43m \u001b[49m\u001b[43mfillvalue\u001b[49m\u001b[43m)\u001b[49m\n\u001b[1;32m   1753\u001b[0m \u001b[38;5;28;01mreturn\u001b[39;00m out\n",
      "\u001b[0;31mKeyboardInterrupt\u001b[0m: "
     ]
    }
   ],
   "source": [
    "y_test_res=test_results(X_test_with_conv,k_means_filters,y_test,y_test.shape[0])"
   ]
  },
  {
   "cell_type": "code",
   "execution_count": null,
   "metadata": {
    "id": "NPN6uln82ro5"
   },
   "outputs": [
    {
     "name": "stdout",
     "output_type": "stream",
     "text": [
      "0.906079365079365\n"
     ]
    }
   ],
   "source": [
    "y_pred=np.concatenate(y_test_res,axis=0)\n",
    "print((y_test == y_pred).mean())\n",
    "#niesamowite, tu faktycznie pomogło, tylko jakim kosztem?"
   ]
  },
  {
   "cell_type": "markdown",
   "metadata": {
    "id": "ckFgjHDD2ro6"
   },
   "source": [
    "teraz jako feature'y użyjemy odległość euklidesową od naszych filtrów"
   ]
  },
  {
   "cell_type": "code",
   "execution_count": null,
   "metadata": {},
   "outputs": [],
   "source": [
    "def dist(x,y):\n",
    "  return np.sqrt((x - y).dot(x-y))\n",
    "  #return (x-y).dot(x-y)\n",
    "    \n",
    "def create_patch_features(X):    \n",
    "    X_mapped_list_per_image = []\n",
    "    for i in range(X.shape[0]):\n",
    "      if i % 1000 == 0:\n",
    "        print(i,\"/\", X.shape[0])\n",
    "        \n",
    "      mapped_features = []\n",
    "      for r in range(0, 28-PATCH_SIZE+1, STRIDE):\n",
    "        for c in range(0, 28-PATCH_SIZE+1, STRIDE):\n",
    "          patch = X[i].reshape(28,28)[c:(c+PATCH_SIZE),r:(r+PATCH_SIZE)].flatten()\n",
    "          #patch_norm = normalize_patch(patch, eps=0.01)\n",
    "          mapped_features.append([dist(patch, f) for f in filters_final])\n",
    "      X_mapped_list_per_image.append(np.vstack(mapped_features))\n",
    "    X_mapped = np.asarray(X_mapped_list_per_image).reshape(-1, ((32-PATCH_SIZE)//STRIDE+1)**2*filters_final.shape[0])\n",
    "    return X_mapped"
   ]
  },
  {
   "cell_type": "code",
   "execution_count": null,
   "metadata": {},
   "outputs": [],
   "source": [
    "from sklearn.feature_extraction import image\n",
    "from sklearn.metrics import pairwise_distances\n",
    "from sklearn.metrics.pairwise import euclidean_distances\n",
    "\n",
    "def create_patch_features__vectorized(X):    \n",
    "    X_mapped_list_per_image = []\n",
    "    for i in range(X.shape[0]):\n",
    "        if i % 1000 == 0:\n",
    "            print(i,\"/\", X.shape[0])\n",
    "        patches = image.extract_patches_2d(X[i], (PATCH_SIZE, PATCH_SIZE))\n",
    "        strided_patches = patches.reshape( 28-PATCH_SIZE+1 , 28-PATCH_SIZE+1, PATCH_SIZE, PATCH_SIZE)[::STRIDE,::STRIDE,:,:]\n",
    "        strided_patches = strided_patches.reshape(((28-PATCH_SIZE)//STRIDE+1)**2, PATCH_SIZE * PATCH_SIZE)\n",
    "        mapped_features = euclidean_distances(np.asarray([patch for patch in strided_patches]), filters_final)\n",
    "        X_mapped_list_per_image.append(mapped_features.reshape(((28-PATCH_SIZE)//STRIDE+1)**2 * filters_final.shape[0]))\n",
    "    X_mapped = np.asarray(X_mapped_list_per_image)\n",
    "    return X_mapped"
   ]
  },
  {
   "cell_type": "code",
   "execution_count": null,
   "metadata": {},
   "outputs": [
    {
     "name": "stdout",
     "output_type": "stream",
     "text": [
      "0 / 7000\n",
      "1000 / 7000\n",
      "2000 / 7000\n",
      "3000 / 7000\n",
      "4000 / 7000\n",
      "5000 / 7000\n",
      "6000 / 7000\n"
     ]
    }
   ],
   "source": [
    "X_mapped_train = create_patch_features(X_train)"
   ]
  },
  {
   "cell_type": "code",
   "execution_count": null,
   "metadata": {},
   "outputs": [
    {
     "name": "stdout",
     "output_type": "stream",
     "text": [
      "(7000, 1024)\n",
      "(63000, 1024)\n"
     ]
    }
   ],
   "source": [
    "#X_mapped_train = create_patch_features__vectorized(X_train)\n",
    "print(X_mapped_train.shape)\n",
    "#print(X_mapped_test.shape)"
   ]
  },
  {
   "cell_type": "code",
   "execution_count": null,
   "metadata": {},
   "outputs": [
    {
     "name": "stdout",
     "output_type": "stream",
     "text": [
      "0 / 63000\n",
      "1000 / 63000\n",
      "2000 / 63000\n",
      "3000 / 63000\n",
      "4000 / 63000\n",
      "5000 / 63000\n",
      "6000 / 63000\n",
      "7000 / 63000\n",
      "8000 / 63000\n",
      "9000 / 63000\n",
      "10000 / 63000\n",
      "11000 / 63000\n",
      "12000 / 63000\n",
      "13000 / 63000\n",
      "14000 / 63000\n",
      "15000 / 63000\n",
      "16000 / 63000\n",
      "17000 / 63000\n",
      "18000 / 63000\n",
      "19000 / 63000\n",
      "20000 / 63000\n",
      "21000 / 63000\n",
      "22000 / 63000\n",
      "23000 / 63000\n",
      "24000 / 63000\n",
      "25000 / 63000\n",
      "26000 / 63000\n",
      "27000 / 63000\n",
      "28000 / 63000\n",
      "29000 / 63000\n",
      "30000 / 63000\n",
      "31000 / 63000\n",
      "32000 / 63000\n",
      "33000 / 63000\n",
      "34000 / 63000\n",
      "35000 / 63000\n",
      "36000 / 63000\n",
      "37000 / 63000\n",
      "38000 / 63000\n",
      "39000 / 63000\n",
      "40000 / 63000\n",
      "41000 / 63000\n",
      "42000 / 63000\n",
      "43000 / 63000\n",
      "44000 / 63000\n",
      "45000 / 63000\n",
      "46000 / 63000\n",
      "47000 / 63000\n",
      "48000 / 63000\n",
      "49000 / 63000\n",
      "50000 / 63000\n",
      "51000 / 63000\n",
      "52000 / 63000\n",
      "53000 / 63000\n",
      "54000 / 63000\n",
      "55000 / 63000\n",
      "56000 / 63000\n",
      "57000 / 63000\n",
      "58000 / 63000\n",
      "59000 / 63000\n",
      "60000 / 63000\n",
      "61000 / 63000\n",
      "62000 / 63000\n"
     ]
    }
   ],
   "source": [
    "X_mapped_train.shape\n",
    "X_mapped_test=create_patch_features(X_test)"
   ]
  },
  {
   "cell_type": "code",
   "execution_count": null,
   "metadata": {},
   "outputs": [
    {
     "name": "stderr",
     "output_type": "stream",
     "text": [
      "[Parallel(n_jobs=10)]: Using backend LokyBackend with 10 concurrent workers.\n",
      "[Parallel(n_jobs=10)]: Done   1 out of   1 | elapsed:    7.9s finished\n"
     ]
    }
   ],
   "source": [
    "clf_mapped = LogisticRegression(random_state=0, max_iter=100, n_jobs=10, verbose=True).fit(X_mapped_train, y_train)"
   ]
  },
  {
   "cell_type": "code",
   "execution_count": null,
   "metadata": {},
   "outputs": [
    {
     "name": "stdout",
     "output_type": "stream",
     "text": [
      "(63000, 1024)\n",
      "0.9038730158730158\n"
     ]
    }
   ],
   "source": [
    "print(X_mapped_test.shape)\n",
    "y_pred = clf_mapped.predict(X_mapped_test)\n",
    "print((y_test == y_pred).mean())"
   ]
  },
  {
   "cell_type": "code",
   "execution_count": null,
   "metadata": {},
   "outputs": [],
   "source": [
    "#prawie taki sam wynik !"
   ]
  }
 ],
 "metadata": {
  "@webio": {
   "lastCommId": null,
   "lastKernelId": null
  },
  "colab": {
   "provenance": []
  },
  "kernelspec": {
   "display_name": "Python 3",
   "language": "python",
   "name": "python3"
  },
  "language_info": {
   "codemirror_mode": {
    "name": "ipython",
    "version": 3
   },
   "file_extension": ".py",
   "mimetype": "text/x-python",
   "name": "python",
   "nbconvert_exporter": "python",
   "pygments_lexer": "ipython3",
   "version": "3.8.8"
  }
 },
 "nbformat": 4,
 "nbformat_minor": 1
}
