{
  "cells": [
    {
      "cell_type": "markdown",
      "metadata": {
        "id": "prTKL3d2kGZE"
      },
      "source": [
        "Variational Autoencoders - Janusz Markiewicz"
      ]
    },
    {
      "cell_type": "markdown",
      "source": [
        "#1. Data Prep"
      ],
      "metadata": {
        "id": "NezKYV6ONcXo"
      }
    },
    {
      "cell_type": "markdown",
      "metadata": {
        "id": "2Qxq9uZAk3Lh"
      },
      "source": [
        "## Imports"
      ]
    },
    {
      "cell_type": "code",
      "source": [
        "!pip install minisom matplotlib"
      ],
      "metadata": {
        "colab": {
          "base_uri": "https://localhost:8080/"
        },
        "id": "K63xuPPANUBc",
        "outputId": "206c9cc2-e266-4020-b1d3-de51fb5c034d"
      },
      "execution_count": null,
      "outputs": [
        {
          "output_type": "stream",
          "name": "stdout",
          "text": [
            "Requirement already satisfied: minisom in c:\\users\\48790\\appdata\\local\\packages\\pythonsoftwarefoundation.python.3.11_qbz5n2kfra8p0\\localcache\\local-packages\\python311\\site-packages (2.3.2)\n",
            "Requirement already satisfied: matplotlib in c:\\users\\48790\\appdata\\local\\packages\\pythonsoftwarefoundation.python.3.11_qbz5n2kfra8p0\\localcache\\local-packages\\python311\\site-packages (3.8.2)\n",
            "Requirement already satisfied: contourpy>=1.0.1 in c:\\users\\48790\\appdata\\local\\packages\\pythonsoftwarefoundation.python.3.11_qbz5n2kfra8p0\\localcache\\local-packages\\python311\\site-packages (from matplotlib) (1.0.7)\n",
            "Requirement already satisfied: cycler>=0.10 in c:\\users\\48790\\appdata\\local\\packages\\pythonsoftwarefoundation.python.3.11_qbz5n2kfra8p0\\localcache\\local-packages\\python311\\site-packages (from matplotlib) (0.11.0)\n",
            "Requirement already satisfied: fonttools>=4.22.0 in c:\\users\\48790\\appdata\\local\\packages\\pythonsoftwarefoundation.python.3.11_qbz5n2kfra8p0\\localcache\\local-packages\\python311\\site-packages (from matplotlib) (4.39.3)\n",
            "Requirement already satisfied: kiwisolver>=1.3.1 in c:\\users\\48790\\appdata\\local\\packages\\pythonsoftwarefoundation.python.3.11_qbz5n2kfra8p0\\localcache\\local-packages\\python311\\site-packages (from matplotlib) (1.4.4)\n",
            "Requirement already satisfied: numpy<2,>=1.21 in c:\\users\\48790\\appdata\\local\\packages\\pythonsoftwarefoundation.python.3.11_qbz5n2kfra8p0\\localcache\\local-packages\\python311\\site-packages (from matplotlib) (1.23.5)\n",
            "Requirement already satisfied: packaging>=20.0 in c:\\users\\48790\\appdata\\local\\packages\\pythonsoftwarefoundation.python.3.11_qbz5n2kfra8p0\\localcache\\local-packages\\python311\\site-packages (from matplotlib) (23.0)\n",
            "Requirement already satisfied: pillow>=8 in c:\\users\\48790\\appdata\\local\\packages\\pythonsoftwarefoundation.python.3.11_qbz5n2kfra8p0\\localcache\\local-packages\\python311\\site-packages (from matplotlib) (9.4.0)\n",
            "Requirement already satisfied: pyparsing>=2.3.1 in c:\\users\\48790\\appdata\\local\\packages\\pythonsoftwarefoundation.python.3.11_qbz5n2kfra8p0\\localcache\\local-packages\\python311\\site-packages (from matplotlib) (3.0.9)\n",
            "Requirement already satisfied: python-dateutil>=2.7 in c:\\users\\48790\\appdata\\local\\packages\\pythonsoftwarefoundation.python.3.11_qbz5n2kfra8p0\\localcache\\local-packages\\python311\\site-packages (from matplotlib) (2.8.2)\n",
            "Requirement already satisfied: six>=1.5 in c:\\users\\48790\\appdata\\local\\packages\\pythonsoftwarefoundation.python.3.11_qbz5n2kfra8p0\\localcache\\local-packages\\python311\\site-packages (from python-dateutil>=2.7->matplotlib) (1.16.0)\n"
          ]
        }
      ]
    },
    {
      "cell_type": "code",
      "execution_count": null,
      "metadata": {
        "id": "MooRFGEeI1zb"
      },
      "outputs": [],
      "source": [
        "import tensorflow as tf\n",
        "import numpy as np\n",
        "import matplotlib.pyplot as plt\n",
        "from tensorflow import keras\n",
        "import keras.backend as K\n",
        "from keras.callbacks import Callback\n",
        "from collections import defaultdict\n",
        "import random\n",
        "import os\n",
        "from sklearn.datasets import fetch_openml\n",
        "from minisom import MiniSom\n",
        "from sklearn.model_selection import train_test_split\n",
        "from tqdm import tqdm  # For progress bar"
      ]
    },
    {
      "cell_type": "markdown",
      "metadata": {
        "id": "wL9rq-0uk7nS"
      },
      "source": [
        "## Parameters"
      ]
    },
    {
      "cell_type": "code",
      "execution_count": null,
      "metadata": {
        "id": "pjhN6GgfmUfx"
      },
      "outputs": [],
      "source": [
        "SEED = 51\n",
        "BATCH_SIZE = 32\n",
        "IMG_WIDTH  = 28\n",
        "IMG_HEIGHT = 28"
      ]
    },
    {
      "cell_type": "markdown",
      "metadata": {
        "id": "hXTdjxmolDBo"
      },
      "source": [
        "## Prepare the Data"
      ]
    },
    {
      "cell_type": "code",
      "source": [
        "X_mnist, y = fetch_openml('mnist_784', version=1, return_X_y=True, as_frame=False)"
      ],
      "metadata": {
        "id": "Wi_SinjqvPfm"
      },
      "execution_count": null,
      "outputs": []
    },
    {
      "cell_type": "markdown",
      "source": [
        "split"
      ],
      "metadata": {
        "id": "xZ7ZVxxgOs6C"
      }
    },
    {
      "cell_type": "code",
      "source": [
        "from sklearn.model_selection import train_test_split\n",
        "# Splitting into training and testing sets (80-20 split)\n",
        "X_train, X_temp, y_train, y_temp = train_test_split(X_mnist, y, test_size=0.2, random_state=42)\n",
        "\n",
        "# Further splitting the training set into training and validation sets (90-10 split of the 80%)\n",
        "X_train, X_val, y_train, y_val = train_test_split(X_train, y_train, test_size=0.1, random_state=42)\n",
        "\n",
        "# Splitting the temporary testing set into actual testing set (50%)\n",
        "X_val, X_test, y_val, y_test = train_test_split(X_temp, y_temp, test_size=0.5, random_state=42)\n",
        "\n"
      ],
      "metadata": {
        "id": "mSZ-WkOSvRPC"
      },
      "execution_count": null,
      "outputs": []
    },
    {
      "cell_type": "markdown",
      "source": [
        "check"
      ],
      "metadata": {
        "id": "YLfdhn35PAN7"
      }
    },
    {
      "cell_type": "code",
      "source": [
        "# Print shapes of the datasets\n",
        "print(\"Training set (X_train, y_train):\", X_train.shape, y_train.shape)\n",
        "print(\"Validation set (X_val, y_val):\", X_val.shape, y_val.shape)\n",
        "print(\"Testing set (X_test, y_test):\", X_test.shape, y_test.shape)\n"
      ],
      "metadata": {
        "colab": {
          "base_uri": "https://localhost:8080/"
        },
        "id": "W_QEoKBsPBdZ",
        "outputId": "0169c467-f808-4efa-9a08-f39426bdd29f"
      },
      "execution_count": null,
      "outputs": [
        {
          "output_type": "stream",
          "name": "stdout",
          "text": [
            "Training set (X_train, y_train): (50400, 784) (50400,)\n",
            "Validation set (X_val, y_val): (7000, 784) (7000,)\n",
            "Testing set (X_test, y_test): (7000, 784) (7000,)\n"
          ]
        }
      ]
    },
    {
      "cell_type": "markdown",
      "source": [
        "organize mnist by label into subdirectories"
      ],
      "metadata": {
        "id": "j_zXgysdTPWC"
      }
    },
    {
      "cell_type": "code",
      "source": [
        "def save_images_to_directory(data, labels, folder_name):\n",
        "    # Create directory for data\n",
        "    os.makedirs(folder_name, exist_ok=True)\n",
        "\n",
        "    # Save images to corresponding subdirectories\n",
        "    for img, label in tqdm(zip(data, labels), total=len(data), desc=f\"Saving images to {folder_name}\"):\n",
        "        label_folder = os.path.join(folder_name, label)\n",
        "        img_name = str(np.random.randint(1e8)) + '.png'  # random name to avoid conflicts\n",
        "        img_path = os.path.join(label_folder, img_name)\n",
        "        img_reshaped = img.reshape(28, 28)  # Reshape image to 28x28\n",
        "        plt.imsave(img_path, img_reshaped, cmap='gray')  # Save image\n",
        "\n",
        "# Save training, validation, and testing images to directories\n",
        "save_images_to_directory(X_train, y_train, 'train')\n",
        "save_images_to_directory(X_val, y_val, 'val')\n",
        "save_images_to_directory(X_test, y_test, 'test')\n"
      ],
      "metadata": {
        "colab": {
          "base_uri": "https://localhost:8080/"
        },
        "id": "KT1B0lfKVk42",
        "outputId": "10cb3de5-8ac1-461d-dd80-210ef10f4e5d"
      },
      "execution_count": null,
      "outputs": [
        {
          "output_type": "stream",
          "name": "stderr",
          "text": [
            "Saving images to train: 100%|███████████████████████████████████████████████████| 50400/50400 [02:20<00:00, 358.42it/s]\n",
            "Saving images to val: 100%|███████████████████████████████████████████████████████| 7000/7000 [00:20<00:00, 341.36it/s]\n",
            "Saving images to test: 100%|██████████████████████████████████████████████████████| 7000/7000 [00:17<00:00, 404.63it/s]\n"
          ]
        }
      ]
    },
    {
      "cell_type": "code",
      "source": [
        "def check_data_structure(folder_name):\n",
        "    \"\"\"\n",
        "    Check the data structure for the given folder.\n",
        "\n",
        "    Args:\n",
        "    - folder_name (str): The name of the folder to check.\n",
        "    \"\"\"\n",
        "    # Get the list of class label subdirectories\n",
        "    class_subdirectories = os.listdir(folder_name)\n",
        "\n",
        "    # Loop through each class label subdirectory and count the number of images\n",
        "    for class_subdir in class_subdirectories:\n",
        "        class_folder = os.path.join(folder_name, class_subdir)\n",
        "        num_images = len(os.listdir(class_folder))\n",
        "        print(f\"Class {class_subdir}: {num_images} images\")\n",
        "\n",
        "    print('\\n')\n",
        "\n",
        "# Example usage:\n",
        "check_data_structure('train')  # Check the structure of the training data\n",
        "check_data_structure('val')    # Check the structure of the validation data\n",
        "check_data_structure('test')   # Check the structure of the testing data"
      ],
      "metadata": {
        "colab": {
          "base_uri": "https://localhost:8080/"
        },
        "id": "1YLe1eaiXEUG",
        "outputId": "ff853daf-e2cb-4439-c482-42155a19ae76"
      },
      "execution_count": null,
      "outputs": [
        {
          "output_type": "stream",
          "name": "stdout",
          "text": [
            "Class 0: 29144 images\n",
            "Class 1: 32347 images\n",
            "Class 2: 29102 images\n",
            "Class 3: 29266 images\n",
            "Class 4: 28585 images\n",
            "Class 5: 25981 images\n",
            "Class 6: 28216 images\n",
            "Class 7: 29927 images\n",
            "Class 8: 28124 images\n",
            "Class 9: 28556 images\n",
            "\n",
            "\n",
            "Class 0: 4635 images\n",
            "Class 1: 5328 images\n",
            "Class 2: 4524 images\n",
            "Class 3: 4788 images\n",
            "Class 4: 4502 images\n",
            "Class 5: 4331 images\n",
            "Class 6: 4685 images\n",
            "Class 7: 5156 images\n",
            "Class 8: 4703 images\n",
            "Class 9: 4675 images\n",
            "\n",
            "\n",
            "Class 0: 2665 images\n",
            "Class 1: 3178 images\n",
            "Class 2: 2779 images\n",
            "Class 3: 2784 images\n",
            "Class 4: 2572 images\n",
            "Class 5: 2486 images\n",
            "Class 6: 2692 images\n",
            "Class 7: 2758 images\n",
            "Class 8: 2517 images\n",
            "Class 9: 2843 images\n",
            "\n",
            "\n"
          ]
        }
      ]
    },
    {
      "cell_type": "code",
      "source": [
        "def list_subdirectories(root_dir):\n",
        "    subdirectories = []\n",
        "    for dirpath, dirnames, filenames in os.walk(root_dir):\n",
        "        for dirname in dirnames:\n",
        "            subdirectories.append(os.path.join(dirpath, dirname))\n",
        "    return subdirectories\n",
        "\n",
        "\n",
        "subdirectories = list_subdirectories('train')\n",
        "print(subdirectories)\n",
        "subdirectories = list_subdirectories('val')\n",
        "print(subdirectories)\n",
        "subdirectories = list_subdirectories('test')\n",
        "print(subdirectories)"
      ],
      "metadata": {
        "colab": {
          "base_uri": "https://localhost:8080/"
        },
        "id": "NGrz7bDBiDAY",
        "outputId": "dbb165b7-a258-4a46-bf51-dbf82530534a"
      },
      "execution_count": null,
      "outputs": [
        {
          "output_type": "stream",
          "name": "stdout",
          "text": [
            "['train\\\\0', 'train\\\\1', 'train\\\\2', 'train\\\\3', 'train\\\\4', 'train\\\\5', 'train\\\\6', 'train\\\\7', 'train\\\\8', 'train\\\\9']\n",
            "['val\\\\0', 'val\\\\1', 'val\\\\2', 'val\\\\3', 'val\\\\4', 'val\\\\5', 'val\\\\6', 'val\\\\7', 'val\\\\8', 'val\\\\9']\n",
            "['test\\\\0', 'test\\\\1', 'test\\\\2', 'test\\\\3', 'test\\\\4', 'test\\\\5', 'test\\\\6', 'test\\\\7', 'test\\\\8', 'test\\\\9']\n"
          ]
        }
      ]
    },
    {
      "cell_type": "code",
      "execution_count": null,
      "metadata": {
        "id": "qxKW6Q88KHcL",
        "colab": {
          "base_uri": "https://localhost:8080/"
        },
        "outputId": "83520b45-38da-459d-96c3-f478ef1e72d9"
      },
      "outputs": [
        {
          "output_type": "stream",
          "name": "stdout",
          "text": [
            "Found 188455 files belonging to 10 classes.\n",
            "Found 20298 files belonging to 10 classes.\n",
            "Found 20274 files belonging to 10 classes.\n"
          ]
        }
      ],
      "source": [
        "train_dir = 'train'\n",
        "val_dir = 'val'\n",
        "test_dir = 'test'\n",
        "\n",
        "# Training data generator\n",
        "training_generator = tf.keras.preprocessing.image_dataset_from_directory(\n",
        "  train_dir,\n",
        "  batch_size=BATCH_SIZE,\n",
        "  image_size=(IMG_HEIGHT, IMG_WIDTH),\n",
        "  seed=np.random.seed(42),\n",
        "  labels=\"inferred\"\n",
        ")\n",
        "\n",
        "# Validation data generator\n",
        "validation_generator = tf.keras.preprocessing.image_dataset_from_directory(\n",
        "  val_dir,\n",
        "  batch_size=BATCH_SIZE,\n",
        "  image_size=(IMG_HEIGHT, IMG_WIDTH),\n",
        "  seed=np.random.seed(42),\n",
        "  labels=\"inferred\"\n",
        ")\n",
        "\n",
        "# Testing data generator\n",
        "testing_generator = tf.keras.preprocessing.image_dataset_from_directory(\n",
        "  test_dir,\n",
        "  batch_size=BATCH_SIZE,\n",
        "  image_size=(IMG_HEIGHT, IMG_WIDTH),\n",
        "  seed=np.random.seed(42),\n",
        "  labels=\"inferred\"\n",
        ")"
      ]
    },
    {
      "cell_type": "code",
      "execution_count": null,
      "metadata": {
        "id": "NTlx97U_JDPB",
        "colab": {
          "base_uri": "https://localhost:8080/",
          "height": 521
        },
        "outputId": "588e5ed4-988f-4e44-a485-cc4b2e6a1079"
      },
      "outputs": [
        {
          "output_type": "display_data",
          "data": {
            "text/plain": [
              "<Figure size 1000x600 with 15 Axes>"
            ],
            "image/png": "[encoded data removed]"
          },
          "metadata": {}
        }
      ],
      "source": [
        "# Function to scale images to the range [0, 1]\n",
        "def scale_images(images):\n",
        "    return images / 255\n",
        "\n",
        "# Function to replicate inputs to outputs\n",
        "def replicate_io(images):\n",
        "    scaled_images = scale_images(images)\n",
        "    return scaled_images, scaled_images\n",
        "\n",
        "# create prefetch generators\n",
        "training_generator = training_generator.prefetch(64)\n",
        "validation_generator = validation_generator.prefetch(64)\n",
        "test_generator = test_generator.prefetch(64)\n",
        "\n",
        "\n",
        "# apply to each batch\n",
        "X_train = training_generator.map(replicate_io)\n",
        "X_val = validation_generator.map(replicate_io)\n",
        "X_test = test_generator.map(replicate_io)\n",
        "\n",
        "\n",
        "\n",
        "# get few images for visualizations\n",
        "images, _ = next(iter(X_test.take(1)))\n",
        "comparison_images = images.numpy()[:15]\n",
        "\n",
        "# Display images for selection\n",
        "plt.figure(figsize=(10, 6))\n",
        "\n",
        "for i in range(15):\n",
        "    plt.subplot(3, 5, i + 1)\n",
        "    plt.imshow(comparison_images[i])\n",
        "    plt.title(f\"Image {i}\")\n",
        "    plt.axis(\"off\")\n",
        "\n",
        "plt.subplots_adjust(wspace=0.5, hspace=0.8)\n",
        "plt.show()"
      ]
    },
    {
      "cell_type": "code",
      "source": [
        "# Select few images for later on\n",
        "IMAGE_SELECTION = [0, 1, 2, 4, 5]"
      ],
      "metadata": {
        "id": "nPP9ocEmmuHb"
      },
      "execution_count": null,
      "outputs": []
    },
    {
      "cell_type": "markdown",
      "source": [
        "# 2. Build VAE Model"
      ],
      "metadata": {
        "id": "1o3emuM1Nlo0"
      }
    },
    {
      "cell_type": "markdown",
      "metadata": {
        "id": "0uFon6vdhMhi"
      },
      "source": [
        "## Sampling layer"
      ]
    },
    {
      "cell_type": "code",
      "source": [
        "class Sampling(keras.layers.Layer):\n",
        "    def call(self, input_values):\n",
        "        mean, log_var = input_values\n",
        "\n",
        "        random_samples = K.random_normal(tf.shape(log_var))\n",
        "\n",
        "        std_dev = K.exp(log_var / 2) #ensures positive std_dev\n",
        "\n",
        "        sampled_values = random_samples * std_dev + mean\n",
        "\n",
        "        return sampled_values"
      ],
      "metadata": {
        "id": "QmyWWrpUKS43"
      },
      "execution_count": null,
      "outputs": []
    },
    {
      "cell_type": "markdown",
      "source": [
        "##VAE Constructor"
      ],
      "metadata": {
        "id": "xTn0qJfuKeS4"
      }
    },
    {
      "cell_type": "code",
      "source": [
        "def build_encoder(input_shape, encoding_size, depth):\n",
        "    input_image = keras.layers.Input(shape=input_shape)\n",
        "    encoder_output = input_image\n",
        "\n",
        "    kernel_initializer = 'he_normal'\n",
        "    for i in range(depth):\n",
        "        encoder_output = keras.layers.Conv2D(32 * (2 ** i), kernel_size=3, strides=2,\n",
        "                                            padding='same', activation='gelu',\n",
        "                                            kernel_initializer=kernel_initializer)(encoder_output)\n",
        "\n",
        "    encoder_output = keras.layers.Flatten()(encoder_output)\n",
        "\n",
        "    dense_layer_mean = keras.layers.Dense(encoding_size)\n",
        "    dense_layer_log_var = keras.layers.Dense(encoding_size)\n",
        "\n",
        "    codings_mean = dense_layer_mean(encoder_output)\n",
        "    codings_log_var = dense_layer_log_var(encoder_output)\n",
        "\n",
        "    codings = Sampling()([codings_mean, codings_log_var])\n",
        "\n",
        "    encoder_model = keras.Model(inputs=[input_image], outputs=[codings_mean, codings_log_var, codings])\n",
        "    return encoder_model"
      ],
      "metadata": {
        "id": "bUM0ZReZ3EQL"
      },
      "execution_count": null,
      "outputs": []
    },
    {
      "cell_type": "code",
      "source": [
        "def build_decoder(encoding_size, depth, output_shape):\n",
        "    decoder_input = keras.layers.Input(shape=[encoding_size])\n",
        "    decoder_output = decoder_input\n",
        "\n",
        "    dense_units = int((32 * (2 ** (depth - 1))) * output_shape[0] / (2 ** (depth - 1)) * output_shape[1] / (2 ** (depth - 1)))\n",
        "    decoder_output = keras.layers.Dense(units=dense_units,\n",
        "                                        activation='gelu')(decoder_output)\n",
        "\n",
        "    reshape_details = [int(output_shape[0] / (2 ** (depth - 1))),\n",
        "                      int(output_shape[1] / (2 ** (depth - 1))),\n",
        "                      int(32 * (2 ** (depth - 1)))]\n",
        "    decoder_output = keras.layers.Reshape(target_shape=reshape_details)(decoder_output)\n",
        "\n",
        "    for i in range(depth - 1):\n",
        "        decoder_output = keras.layers.Conv2DTranspose(filters=32 * 2 ** (depth - i - 2), kernel_size=3, strides=2,\n",
        "                                                      padding='same', activation='gelu')(decoder_output)\n",
        "\n",
        "    reconstructed_output = keras.layers.Conv2DTranspose(filters=output_shape[-1], kernel_size=3,\n",
        "                                                         padding='same', activation='sigmoid')(decoder_output)\n",
        "\n",
        "    decoder_model = keras.Model(inputs=[decoder_input], outputs=[reconstructed_output])\n",
        "    return decoder_model"
      ],
      "metadata": {
        "id": "kdZHMSFp3Gjz"
      },
      "execution_count": null,
      "outputs": []
    },
    {
      "cell_type": "code",
      "source": [
        "def compute_latent_loss(codings_mean, codings_log_var, beta):\n",
        "    latent_loss = -0.5 * K.sum(1 + codings_log_var - K.exp(codings_log_var) - K.square(codings_mean), axis=-1) * beta\n",
        "    return K.mean(latent_loss)"
      ],
      "metadata": {
        "id": "N4WnNZFA3Jti"
      },
      "execution_count": null,
      "outputs": []
    },
    {
      "cell_type": "code",
      "source": [
        "def vae_builder(input_shape, encoding_size, depth, beta, summarize=False):\n",
        "    encoder_model = build_encoder(input_shape, encoding_size, depth)\n",
        "    decoder_model = build_decoder(encoding_size, depth, input_shape)\n",
        "\n",
        "    encoder_input = encoder_model.input\n",
        "    _, _, latent_representation = encoder_model(encoder_input)\n",
        "\n",
        "    reconstructed_output = decoder_model(latent_representation)\n",
        "\n",
        "    vae = keras.Model(inputs=[encoder_model.input], outputs=[reconstructed_output])\n",
        "\n",
        "    if summarize:\n",
        "        encoder_model.summary()\n",
        "        decoder_model.summary()\n",
        "        vae.summary()\n",
        "\n",
        "    # add a loss function\n",
        "    latent_loss = compute_latent_loss(latent_representation[0], latent_representation[1], beta)\n",
        "    vae.add_loss(latent_loss)\n",
        "\n",
        "    return vae"
      ],
      "metadata": {
        "id": "I72FE7340jLQ"
      },
      "execution_count": null,
      "outputs": []
    },
    {
      "cell_type": "markdown",
      "source": [
        "#3. Seek Best parameters"
      ],
      "metadata": {
        "id": "nHqmzfRKNuxe"
      }
    },
    {
      "cell_type": "markdown",
      "metadata": {
        "id": "72ZRga9vlonx"
      },
      "source": [
        "## Architecture Search"
      ]
    },
    {
      "cell_type": "code",
      "source": [
        "EPOCHS = 1\n",
        "ENCODING_SIZES = [8, 16, 32] #\n",
        "DEPTHS = [2, 3, 4] #\n",
        "BETA_VALUES = [0.00001, 0.001, 0.01, 1] #,"
      ],
      "metadata": {
        "id": "8BgyoS_PRYlN"
      },
      "execution_count": null,
      "outputs": []
    },
    {
      "cell_type": "code",
      "execution_count": null,
      "metadata": {
        "id": "jC1cpLViJLIu",
        "colab": {
          "base_uri": "https://localhost:8080/",
          "height": 748
        },
        "outputId": "a7ecf219-0f8c-4c28-9d17-883e58682f6b"
      },
      "outputs": [
        {
          "output_type": "stream",
          "name": "stdout",
          "text": [
            "\n",
            "\n",
            "Encoding Size =  8\n",
            "Depth =  2\n",
            "Beta Value =  1e-05\n"
          ]
        },
        {
          "output_type": "error",
          "ename": "InvalidArgumentError",
          "evalue": "Graph execution error:\n\nDetected at node decode_image/DecodeImage defined at (most recent call last):\n<stack traces unavailable>\nInput is empty.\n\t [[{{node decode_image/DecodeImage}}]]\n\t [[IteratorGetNext]] [Op:__inference_train_function_15474]",
          "traceback": [
            "\u001b[1;31m---------------------------------------------------------------------------\u001b[0m",
            "\u001b[1;31mInvalidArgumentError\u001b[0m                      Traceback (most recent call last)",
            "Cell \u001b[1;32mIn[127], line 27\u001b[0m\n\u001b[0;32m     23\u001b[0m tf\u001b[38;5;241m.\u001b[39mrandom\u001b[38;5;241m.\u001b[39mset_seed(SEED)\n\u001b[0;32m     25\u001b[0m vae_model\u001b[38;5;241m.\u001b[39mcompile(loss\u001b[38;5;241m=\u001b[39m\u001b[38;5;124m\"\u001b[39m\u001b[38;5;124mmean_squared_error\u001b[39m\u001b[38;5;124m\"\u001b[39m, optimizer\u001b[38;5;241m=\u001b[39mkeras\u001b[38;5;241m.\u001b[39moptimizers\u001b[38;5;241m.\u001b[39mNadam())\n\u001b[1;32m---> 27\u001b[0m history \u001b[38;5;241m=\u001b[39m \u001b[43mvae_model\u001b[49m\u001b[38;5;241;43m.\u001b[39;49m\u001b[43mfit\u001b[49m\u001b[43m(\u001b[49m\u001b[43mX_train\u001b[49m\u001b[43m,\u001b[49m\u001b[43m \u001b[49m\u001b[43mvalidation_data\u001b[49m\u001b[38;5;241;43m=\u001b[39;49m\u001b[43mX_val\u001b[49m\u001b[43m,\u001b[49m\u001b[43m \u001b[49m\u001b[43mepochs\u001b[49m\u001b[38;5;241;43m=\u001b[39;49m\u001b[43mEPOCHS\u001b[49m\u001b[43m,\u001b[49m\u001b[43m \u001b[49m\u001b[43m\\\u001b[49m\n\u001b[0;32m     28\u001b[0m \u001b[43m                        \u001b[49m\u001b[43mcallbacks\u001b[49m\u001b[43m \u001b[49m\u001b[38;5;241;43m=\u001b[39;49m\u001b[43m \u001b[49m\u001b[43mlr_scheduler\u001b[49m\u001b[43m,\u001b[49m\u001b[43m \u001b[49m\u001b[43mverbose\u001b[49m\u001b[38;5;241;43m=\u001b[39;49m\u001b[38;5;241;43m0\u001b[39;49m\u001b[43m)\u001b[49m\n\u001b[0;32m     30\u001b[0m all_reconstructions \u001b[38;5;241m=\u001b[39m vae_model\u001b[38;5;241m.\u001b[39mpredict(comparison_images)\n\u001b[0;32m     31\u001b[0m decoder_layer \u001b[38;5;241m=\u001b[39m vae_model\u001b[38;5;241m.\u001b[39mlayers[\u001b[38;5;241m2\u001b[39m]\n",
            "File \u001b[1;32m~\\AppData\\Local\\Packages\\PythonSoftwareFoundation.Python.3.11_qbz5n2kfra8p0\\LocalCache\\local-packages\\Python311\\site-packages\\keras\\src\\utils\\traceback_utils.py:70\u001b[0m, in \u001b[0;36mfilter_traceback.<locals>.error_handler\u001b[1;34m(*args, **kwargs)\u001b[0m\n\u001b[0;32m     67\u001b[0m     filtered_tb \u001b[38;5;241m=\u001b[39m _process_traceback_frames(e\u001b[38;5;241m.\u001b[39m__traceback__)\n\u001b[0;32m     68\u001b[0m     \u001b[38;5;66;03m# To get the full stack trace, call:\u001b[39;00m\n\u001b[0;32m     69\u001b[0m     \u001b[38;5;66;03m# `tf.debugging.disable_traceback_filtering()`\u001b[39;00m\n\u001b[1;32m---> 70\u001b[0m     \u001b[38;5;28;01mraise\u001b[39;00m e\u001b[38;5;241m.\u001b[39mwith_traceback(filtered_tb) \u001b[38;5;28;01mfrom\u001b[39;00m \u001b[38;5;28;01mNone\u001b[39;00m\n\u001b[0;32m     71\u001b[0m \u001b[38;5;28;01mfinally\u001b[39;00m:\n\u001b[0;32m     72\u001b[0m     \u001b[38;5;28;01mdel\u001b[39;00m filtered_tb\n",
            "File \u001b[1;32m~\\AppData\\Local\\Packages\\PythonSoftwareFoundation.Python.3.11_qbz5n2kfra8p0\\LocalCache\\local-packages\\Python311\\site-packages\\tensorflow\\python\\eager\\execute.py:53\u001b[0m, in \u001b[0;36mquick_execute\u001b[1;34m(op_name, num_outputs, inputs, attrs, ctx, name)\u001b[0m\n\u001b[0;32m     51\u001b[0m \u001b[38;5;28;01mtry\u001b[39;00m:\n\u001b[0;32m     52\u001b[0m   ctx\u001b[38;5;241m.\u001b[39mensure_initialized()\n\u001b[1;32m---> 53\u001b[0m   tensors \u001b[38;5;241m=\u001b[39m pywrap_tfe\u001b[38;5;241m.\u001b[39mTFE_Py_Execute(ctx\u001b[38;5;241m.\u001b[39m_handle, device_name, op_name,\n\u001b[0;32m     54\u001b[0m                                       inputs, attrs, num_outputs)\n\u001b[0;32m     55\u001b[0m \u001b[38;5;28;01mexcept\u001b[39;00m core\u001b[38;5;241m.\u001b[39m_NotOkStatusException \u001b[38;5;28;01mas\u001b[39;00m e:\n\u001b[0;32m     56\u001b[0m   \u001b[38;5;28;01mif\u001b[39;00m name \u001b[38;5;129;01mis\u001b[39;00m \u001b[38;5;129;01mnot\u001b[39;00m \u001b[38;5;28;01mNone\u001b[39;00m:\n",
            "\u001b[1;31mInvalidArgumentError\u001b[0m: Graph execution error:\n\nDetected at node decode_image/DecodeImage defined at (most recent call last):\n<stack traces unavailable>\nInput is empty.\n\t [[{{node decode_image/DecodeImage}}]]\n\t [[IteratorGetNext]] [Op:__inference_train_function_15474]"
          ]
        }
      ],
      "source": [
        "def exponential_decay(epoch):\n",
        "    initial_learning_rate = 0.001\n",
        "    decay_factor = 0.95\n",
        "    decay_rate = 10\n",
        "    return initial_learning_rate * decay_factor ** (epoch / decay_rate)\n",
        "lr_scheduler = keras.callbacks.LearningRateScheduler(exponential_decay)\n",
        "\n",
        "reconstruction_storage = defaultdict(dict)\n",
        "new_image_storage = defaultdict(dict)\n",
        "\n",
        "for enc_size in ENCODING_SIZES:\n",
        "    for depth in DEPTHS:\n",
        "        for beta_val in BETA_VALUES:\n",
        "            print('\\n')\n",
        "            print('Encoding Size = ', enc_size)\n",
        "            print('Depth = ', depth)\n",
        "            print('Beta Value = ', beta_val)\n",
        "\n",
        "\n",
        "            vae_model = vae_builder(input_shape=(IMG_WIDTH, IMG_HEIGHT, 3), encoding_size=enc_size, depth=depth, beta=beta_val, summarize=False)\n",
        "\n",
        "            keras.backend.clear_session()\n",
        "            tf.random.set_seed(SEED)\n",
        "\n",
        "            vae_model.compile(loss=\"mean_squared_error\", optimizer=keras.optimizers.Nadam())\n",
        "\n",
        "            history = vae_model.fit(X_train, validation_data=X_val, epochs=EPOCHS, \\\n",
        "                                    callbacks = lr_scheduler, verbose=0)\n",
        "\n",
        "            all_reconstructions = vae_model.predict(comparison_images)\n",
        "            decoder_layer = vae_model.layers[2]\n",
        "            z_sample = np.random.normal(size=(10, enc_size))\n",
        "\n",
        "            for i, pick_idx in enumerate(IMAGE_SELECTION):\n",
        "                reconstruction_storage[pick_idx][(enc_size, depth, beta_val)] = all_reconstructions[pick_idx]\n",
        "\n",
        "                if i < 10:  # Limit to 10 iterations to match z_sample size\n",
        "                    new_image_storage[i][(enc_size, depth, beta_val)] = decoder_layer.predict(z_sample[i:i+1])[0]\n",
        "\n"
      ]
    },
    {
      "cell_type": "markdown",
      "metadata": {
        "id": "LSBtdCVim9aC"
      },
      "source": [
        "## Visualize Reconstructions of Selected Images"
      ]
    },
    {
      "cell_type": "code",
      "execution_count": null,
      "metadata": {
        "id": "5eZsrZtqJOzv"
      },
      "outputs": [],
      "source": [
        "# plot the grids of reconstructions\n",
        "depth_dim = len(DEPTHS)\n",
        "enc_dim = len(ENCODING_SIZES)\n",
        "beta_dim = len(BETA_VALUES)\n",
        "grid_rows = len(IMAGE_SELECTION)\n",
        "grid_cols = depth_dim * enc_dim * beta_dim + 1  # +1 for the original image\n",
        "\n",
        "# Create a single plot for all images in a symmetrical grid\n",
        "fig, axs = plt.subplots(grid_rows, grid_cols, figsize=(grid_cols * 3, grid_rows * 3))\n",
        "\n",
        "for r, pick_idx in enumerate(IMAGE_SELECTION):\n",
        "    axs[r, 0].imshow(comparison_images[pick_idx])\n",
        "    axs[r, 0].set_title('original')\n",
        "    axs[r, 0].axis('off')\n",
        "\n",
        "    for e, enc_size in enumerate(ENCODING_SIZES):\n",
        "        for d, depth in enumerate(DEPTHS):\n",
        "            for b, beta_val in enumerate(BETA_VALUES):\n",
        "                col_index = 1 + (e + enc_dim * b) * depth_dim + d\n",
        "                axs[r, col_index].imshow(reconstruction_storage[pick_idx][(enc_size, depth, beta_val)])\n",
        "                axs[r, col_index].axis('off')\n",
        "\n",
        "                if r == 0:\n",
        "                    axs[r, col_index].set_title(f'Depth={depth}\\nEncoding={enc_size}\\nBeta={beta_val}')\n",
        "\n",
        "# Adjust layout to prevent clipping of titles\n",
        "plt.tight_layout()\n",
        "plt.show()"
      ]
    },
    {
      "cell_type": "code",
      "source": [
        "depth_dim = len(DEPTHS)\n",
        "enc_dim = len(ENCODING_SIZES)\n",
        "beta_dim = len(BETA_VALUES)\n",
        "grid_rows = beta_dim\n",
        "grid_cols = len(IMAGE_SELECTION) * depth_dim * enc_dim + 1  # +1 for the original images\n",
        "\n",
        "# Create a single plot for all images in a symmetrical grid with a slightly larger size\n",
        "fig, axs = plt.subplots(grid_rows, grid_cols, figsize=((grid_cols + 1) * 3, grid_rows * 3))\n",
        "\n",
        "for r, beta_val in enumerate(BETA_VALUES):\n",
        "    axs[r, 0].set_title(f'Beta={beta_val}', pad=10)  # Adjust the pad value to control the vertical position\n",
        "    axs[r, 0].axis('off')\n",
        "\n",
        "    for c, pick_idx in enumerate(IMAGE_SELECTION):\n",
        "        axs[r, 1 + c * depth_dim * enc_dim].imshow(comparison_images[pick_idx])\n",
        "        axs[r, 1 + c * depth_dim * enc_dim]\n",
        "        axs[r, 1 + c * depth_dim * enc_dim].axis('off')\n",
        "\n",
        "        for e, encoding_size in enumerate(ENCODING_SIZES):\n",
        "            for d, depth in enumerate(DEPTHS):\n",
        "                col_index = 1 + c * depth_dim * enc_dim + e * depth_dim + d\n",
        "                axs[r, col_index].imshow(reconstruction_storage[pick_idx][(enc_size, depth, beta_val)])\n",
        "                axs[r, col_index].axis('off')\n",
        "\n",
        "                if r == 0:\n",
        "                    axs[r, col_index].set_title(f'Depth={depth}\\nEncoding={enc_size}')\n",
        "\n",
        "# Adjust layout to prevent clipping of titles\n",
        "plt.tight_layout()\n",
        "plt.show()\n"
      ],
      "metadata": {
        "id": "i4EX5rtWEEU2"
      },
      "execution_count": null,
      "outputs": []
    },
    {
      "cell_type": "markdown",
      "source": [
        "# 4. Train the Model"
      ],
      "metadata": {
        "id": "invQpjxpOUFJ"
      }
    },
    {
      "cell_type": "markdown",
      "metadata": {
        "id": "KHNxIUUS9ng9"
      },
      "source": [
        "### Training with Best Parameters"
      ]
    },
    {
      "cell_type": "code",
      "execution_count": null,
      "metadata": {
        "id": "L-3qk6ZBm0Fl"
      },
      "outputs": [],
      "source": [
        "reconstruction_storage = defaultdict(dict)\n",
        "new_images = defaultdict(dict)\n",
        "\n",
        "ENCODING_SIZE = 16\n",
        "DEPTH = 3\n",
        "BETA = 0.001\n",
        "EPOCHS = 5\n",
        "\n",
        "vae = vae_builder(input_shape=(IMG_WIDTH, IMG_HEIGHT, 3), encoding_size=ENCODING_SIZE, depth=DEPTH, beta=BETA, summarize=False)\n",
        "\n",
        "\n",
        "keras.backend.clear_session()# clear\n",
        "tf.random.set_seed(SEED)\n",
        "\n",
        "vae.compile(loss = \"mean_squared_error\", optimizer = keras.optimizers.Nadam()) # compile\n",
        "history = vae.fit(X_train, validation_data = X_val,  epochs = EPOCHS, \\\n",
        "                  callbacks = lr_scheduler, verbose = 2)\n",
        "\n",
        "all_reconstructions = vae.predict(comparison_images)\n",
        "for pick_idx in IMAGE_SELECTION:\n",
        "    reconstruction_storage[pick_idx] = all_reconstructions[pick_idx]\n",
        "\n",
        "decoder = vae.layers[2]\n",
        "z_sample = np.random.normal(size = (10, 16))\n",
        "for i, fig in enumerate(decoder.predict(z_sample)):\n",
        "    new_images[i] = fig"
      ]
    },
    {
      "cell_type": "markdown",
      "source": [
        "#5. Generate"
      ],
      "metadata": {
        "id": "ZdOb_nXcOa88"
      }
    },
    {
      "cell_type": "markdown",
      "metadata": {
        "id": "tZjCSa7Y-Gvk"
      },
      "source": [
        "### Generated Images"
      ]
    },
    {
      "cell_type": "code",
      "execution_count": null,
      "metadata": {
        "id": "7VSVYjDim4Dk"
      },
      "outputs": [],
      "source": [
        "grid_height, grid_width = (1, 10)\n",
        "fig = plt.figure(figsize = (grid_width * 3, grid_height * 4))\n",
        "\n",
        "for fig in range(10):\n",
        "    ax = plt.subplot(grid_height, grid_width, fig + 1)\n",
        "    plt.xticks([])\n",
        "    plt.yticks([])\n",
        "\n",
        "    ax.imshow(new_images[fig])"
      ]
    }
  ],
  "metadata": {
    "accelerator": "GPU",
    "colab": {
      "provenance": [],
      "gpuType": "T4"
    },
    "jupytext": {
      "encoding": "# -*- coding: utf-8 -*-"
    },
    "kernelspec": {
      "display_name": "Python 3",
      "name": "python3"
    },
    "language_info": {
      "codemirror_mode": {
        "name": "ipython",
        "version": 3
      },
      "file_extension": ".py",
      "mimetype": "text/x-python",
      "name": "python",
      "nbconvert_exporter": "python",
      "pygments_lexer": "ipython3",
      "version": "3.7.4"
    }
  },
  "nbformat": 4,
  "nbformat_minor": 0
}